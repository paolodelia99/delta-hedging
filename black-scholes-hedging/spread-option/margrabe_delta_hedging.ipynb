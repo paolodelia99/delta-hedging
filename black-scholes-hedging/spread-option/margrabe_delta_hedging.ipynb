{
 "cells": [
  {
   "cell_type": "markdown",
   "metadata": {},
   "source": [
    "# Delta hedging of a spread options\n",
    "\n",
    "Consider a market model with two assets, a Bank account and a 2 Stocks with risk neutral dynamics:\n",
    "\n",
    "$$\n",
    "dB(t) = rB(t) dt, \\hspace{10mm} B(0) = 1 \\\\\n",
    "dS_1(t) = r S_1(t) dt + \\sigma_1 S_1(t) dW_1(t), \\hspace{10mm} S_1(0) = s_1 > 0 \\\\\n",
    "dS_2(t) = r S_2(t) dt + \\sigma_2 S_2(t) dW_2(t), \\hspace{10mm} S_2(0) = s_2 > 0\n",
    "$$\n",
    "\n",
    "where $\\sigma_1, \\sigma_2 > 0$ and where $E[dW_1(t) dW_2(t)] = \\rho dt$ is the correlation between the two Brownian motions.\n",
    "\n",
    "Consider a spread option with that at time $T$ pays $X = (S_2(T) - S_1(T))^+$.\n",
    "\n",
    "Chope the time interval between now (time 0) and expiry of the call-option (time $T$) into $N$ pieces; denote the discretization points $t_i$.  "
   ]
  },
  {
   "cell_type": "markdown",
   "metadata": {},
   "source": [
    "## Margrabe formula for princing the spread option\n",
    "\n",
    "In the case where the strike price of a spread option is 0 ($K = 0$), there is a closed-form for pricing a spread option the Margrabe formula:\n",
    "\n",
    "$$\n",
    "p = x_2 N(d_1) - x_1 N(d_2)\n",
    "$$\n",
    "\n",
    "where \n",
    "\n",
    "$$\n",
    "d_{1, 2} = \\frac{\\ln(x_2 / x_1)}{\\sigma \\sqrt{T}} \\pm \\frac{1}{2} \\sigma \\sqrt{T}\n",
    "$$\n",
    "\n",
    "and \n",
    "\n",
    "$$\n",
    "x_1 = S_1(0), x_2 = S_2(0), \\hspace{10mm} \\sigma^2 = \\sigma_1^2 + \\sigma_2^2 - 2 \\rho \\sigma_1 \\sigma_2\n",
    "$$"
   ]
  },
  {
   "cell_type": "code",
   "execution_count": 1,
   "metadata": {},
   "outputs": [],
   "source": [
    "import os\n",
    "import sys\n",
    "module_path = os.path.abspath(os.path.join('..\\..'))\n",
    "if module_path not in sys.path:\n",
    "    sys.path.append(module_path)"
   ]
  },
  {
   "cell_type": "markdown",
   "metadata": {},
   "source": [
    "## Discrete delta hedging experiment \n",
    "\n",
    "The hedging strategy is simple: just calcualte $\\Delta_1$ and $\\Delta_2$ at each time $t_i$ and then buy $\\Delta_1$ units of stock 1 and $\\Delta_2$ units of stock 2."
   ]
  },
  {
   "cell_type": "code",
   "execution_count": 2,
   "metadata": {},
   "outputs": [],
   "source": [
    "import numpy as np\n",
    "import pandas as pd\n",
    "\n",
    "import matplotlib.pyplot as plt\n",
    "import jax.numpy as jnp\n",
    "from jax import vmap\n",
    "\n",
    "from jaxfin.models.gbm import MultiGeometricBrownianMotion\n",
    "\n",
    "from src.spread import margrabe_deltas, margrabe, margrabe_cross_gamma, margrabe_gammas\n",
    "import scienceplots\n",
    "plt.style.use(['science','no-latex'])\n",
    "\n",
    "SEED = 42\n",
    "np.random.seed(SEED)"
   ]
  },
  {
   "cell_type": "markdown",
   "metadata": {},
   "source": [
    "Parameters:\n",
    "\n",
    "$S^1_0$ = $S^2_0$ = 100\n",
    "\n",
    "$r = 0$\n",
    "\n",
    "$\\sigma_1 = \\sigma_2 = 0.2$\n",
    "\n",
    "$\\rho = -0.5$"
   ]
  },
  {
   "cell_type": "code",
   "execution_count": 3,
   "metadata": {},
   "outputs": [],
   "source": [
    "vmap_deltas = vmap(margrabe_deltas, in_axes=(0, 0, None, None, None, None))"
   ]
  },
  {
   "cell_type": "code",
   "execution_count": 4,
   "metadata": {},
   "outputs": [],
   "source": [
    "def get_transaction_costs(ticksize, ddelta_1, ddelta_2):\n",
    "    return ticksize * (jnp.abs(ddelta_1) + 0.01 * ddelta_1**2) \\\n",
    "        + ticksize * (jnp.abs(ddelta_2) + 0.01 * ddelta_2**2)"
   ]
  },
  {
   "cell_type": "code",
   "execution_count": 5,
   "metadata": {},
   "outputs": [],
   "source": [
    "def hedge_experiment_loop(stock_paths, expiration, vols, correlation, N, ticksize):\n",
    "    dt = expiration / N\n",
    "    deltas = jnp.asarray([vmap_deltas(stock_paths[i, :, 0], stock_paths[i, :, 1], expiration - i * dt, vols[0], vols[1], correlation[0, 1]) for i in range(N)])\n",
    "    spread_value = jnp.asarray([margrabe(stock_paths[i, :, 0], stock_paths[i, :, 1], expiration - i * dt, vols[0], vols[1], correlation[0, 1]) for i in range(N)])\n",
    "    b = [spread_value[0, :] - deltas[0, :, 0] * stock_paths[0, :, 0] - deltas[0, :, 1] * stock_paths[0, :, 1] - get_transaction_costs(ticksize, deltas[0, :, 0], deltas[0, :, 1])]\n",
    "    vs = [spread_value[0, :]]\n",
    "\n",
    "    for i in range(1, N):\n",
    "        ddelta_1 = deltas[i, :, 0] - deltas[i - 1, :, 0]\n",
    "        ddelta_2 = deltas[i, :, 1] - deltas[i - 1, :, 1]\n",
    "        transaction_cost = get_transaction_costs(ticksize, ddelta_1, ddelta_2)\n",
    "        if i == N - 1:\n",
    "            transaction_cost += get_transaction_costs(ticksize, deltas[i, :, 0], deltas[i, :, 1])\n",
    "\n",
    "        vs.append(deltas[i - 1, :, 0] * stock_paths[i, :, 0] + deltas[i - 1, :, 1] * stock_paths[i, :, 1] + b[i - 1])\n",
    "        b.append(vs[i] - deltas[i, :, 0] * stock_paths[i, :, 0] - deltas[i, :, 1] * stock_paths[i, :, 1] - transaction_cost)\n",
    "\n",
    "    hedge_error = jnp.asarray(vs)[-1] - jnp.maximum(stock_paths[-1:, :, 1] - stock_paths[-1:, :, 0], 0)\n",
    "\n",
    "    return jnp.mean(hedge_error), jnp.std(hedge_error) / jnp.asarray(spread_value)[0, 0]"
   ]
  },
  {
   "cell_type": "markdown",
   "metadata": {},
   "source": [
    "## Hedging experiment without transaction costs"
   ]
  },
  {
   "cell_type": "code",
   "execution_count": 6,
   "metadata": {},
   "outputs": [],
   "source": [
    "s1_0, s2_0 = 100, 100\n",
    "mu_1, mu_2 = 0.0, 0.0\n",
    "sigma_1, sigma_2 = 0.2, 0.2\n",
    "rho = -0.5\n",
    "expiration = 1.0\n",
    "N = 252\n",
    "dt = expiration / N\n",
    "n_simulation = 1000\n",
    "ticksize = 0.00\n",
    "\n",
    "s0 = jnp.array([s1_0, s2_0])\n",
    "means = jnp.array([0.0, 0.0])\n",
    "vols = jnp.array([sigma_1, sigma_2])\n",
    "correlation = jnp.array([[1, rho], [rho, 1]], dtype=jnp.float32)\n",
    "\n",
    "gbm = MultiGeometricBrownianMotion(s0, means, vols, correlation, dtype=jnp.float32)\n",
    "stock_paths = gbm.sample_paths(expiration, N, n_simulation)"
   ]
  },
  {
   "cell_type": "code",
   "execution_count": 7,
   "metadata": {},
   "outputs": [],
   "source": [
    "results = {\n",
    "    'S1_0': [],\n",
    "    'S2_0': [],\n",
    "    'Volatility_1': [],\n",
    "    'Volatility_2': [],\n",
    "    'Maturity': [],\n",
    "    'Rebalancing_freq': [],\n",
    "    'Correlation': [],\n",
    "    'E_PL_T': [],\n",
    "    'Std_PL_T': []\n",
    "}"
   ]
  },
  {
   "cell_type": "code",
   "execution_count": 8,
   "metadata": {},
   "outputs": [],
   "source": [
    "def update_results(stock_paths, expiration, vols, correlation, N, ticksize=0.00):\n",
    "    mean_hedge_error, std_hedge_error = hedge_experiment_loop(stock_paths, expiration, vols, correlation, N, ticksize)\n",
    "\n",
    "    results['S1_0'].append(stock_paths[0, 0, 0])\n",
    "    results['S2_0'].append(stock_paths[0, 0, 1])\n",
    "    results['Volatility_1'].append(vols[0])\n",
    "    results['Volatility_2'].append(vols[1])\n",
    "    results['Maturity'].append(expiration)\n",
    "    results['Rebalancing_freq'].append(N)\n",
    "    results['Correlation'].append(correlation[0, 1])\n",
    "    results['E_PL_T'].append(mean_hedge_error)\n",
    "    results['Std_PL_T'].append(std_hedge_error)\n",
    "\n",
    "    print(f'The mean hedge error is: {mean_hedge_error}')\n",
    "    print(f'The normalized std of the hedge error is: {std_hedge_error}')\n",
    "\n",
    "    return results"
   ]
  },
  {
   "cell_type": "code",
   "execution_count": 9,
   "metadata": {},
   "outputs": [
    {
     "name": "stdout",
     "output_type": "stream",
     "text": [
      "The mean hedge error is: 0.3005712032318115\n",
      "The normalized std of the hedge error is: 0.0524766780436039\n"
     ]
    }
   ],
   "source": [
    "results = update_results(stock_paths, expiration, vols, correlation, N, ticksize)"
   ]
  },
  {
   "cell_type": "markdown",
   "metadata": {},
   "source": [
    "### Different starting stock prices\n",
    "\n",
    "$$\n",
    "S_1(0) = 100 \\quad S_2(0) = 110\n",
    "$$"
   ]
  },
  {
   "cell_type": "code",
   "execution_count": 10,
   "metadata": {},
   "outputs": [],
   "source": [
    "s1_0 = 100\n",
    "s2_0 = 110\n",
    "\n",
    "s0 = jnp.array([s1_0, s2_0])\n",
    "\n",
    "gbm = MultiGeometricBrownianMotion(s0, means, vols, correlation, dtype=jnp.float32)\n",
    "stock_paths = gbm.sample_paths(expiration, N, n_simulation)"
   ]
  },
  {
   "cell_type": "code",
   "execution_count": 11,
   "metadata": {},
   "outputs": [
    {
     "name": "stdout",
     "output_type": "stream",
     "text": [
      "The mean hedge error is: 0.330804705619812\n",
      "The normalized std of the hedge error is: 0.037693582475185394\n"
     ]
    }
   ],
   "source": [
    "results = update_results(stock_paths, expiration, vols, correlation, N, ticksize)"
   ]
  },
  {
   "cell_type": "markdown",
   "metadata": {},
   "source": [
    "$$\n",
    "S_1(0) = 100 \\quad S_2(0) = 120\n",
    "$$"
   ]
  },
  {
   "cell_type": "code",
   "execution_count": 12,
   "metadata": {},
   "outputs": [],
   "source": [
    "s1_0 = 100\n",
    "s2_0 = 120\n",
    "\n",
    "s0 = jnp.array([s1_0, s2_0])\n",
    "\n",
    "gbm = MultiGeometricBrownianMotion(s0, means, vols, correlation, dtype=jnp.float32)\n",
    "stock_paths = gbm.sample_paths(expiration, N, n_simulation)"
   ]
  },
  {
   "cell_type": "code",
   "execution_count": 13,
   "metadata": {},
   "outputs": [
    {
     "name": "stdout",
     "output_type": "stream",
     "text": [
      "The mean hedge error is: 0.2662851810455322\n",
      "The normalized std of the hedge error is: 0.02767394483089447\n"
     ]
    }
   ],
   "source": [
    "results = update_results(stock_paths, expiration, vols, correlation, N, ticksize)"
   ]
  },
  {
   "cell_type": "markdown",
   "metadata": {},
   "source": [
    "$$\n",
    "S_1(0) = 100 \\quad S_2(0) = 80\n",
    "$$"
   ]
  },
  {
   "cell_type": "code",
   "execution_count": 14,
   "metadata": {},
   "outputs": [],
   "source": [
    "s1_0 = 100\n",
    "s2_0 = 80\n",
    "\n",
    "s0 = jnp.array([s1_0, s2_0])\n",
    "\n",
    "gbm = MultiGeometricBrownianMotion(s0, means, vols, correlation, dtype=jnp.float32)\n",
    "stock_paths = gbm.sample_paths(expiration, N, n_simulation)"
   ]
  },
  {
   "cell_type": "code",
   "execution_count": 15,
   "metadata": {},
   "outputs": [
    {
     "name": "stdout",
     "output_type": "stream",
     "text": [
      "The mean hedge error is: 0.2408786565065384\n",
      "The normalized std of the hedge error is: 0.12205778807401657\n"
     ]
    }
   ],
   "source": [
    "results = update_results(stock_paths, expiration, vols, correlation, N, ticksize)"
   ]
  },
  {
   "cell_type": "markdown",
   "metadata": {},
   "source": [
    "$$\n",
    "S_1(0) = 100 \\quad S_2(0) = 90\n",
    "$$"
   ]
  },
  {
   "cell_type": "code",
   "execution_count": 16,
   "metadata": {},
   "outputs": [],
   "source": [
    "s1_0 = 100\n",
    "s2_0 = 90\n",
    "\n",
    "s0 = jnp.array([s1_0, s2_0])\n",
    "\n",
    "gbm = MultiGeometricBrownianMotion(s0, means, vols, correlation, dtype=jnp.float32)\n",
    "stock_paths = gbm.sample_paths(expiration, N, n_simulation)"
   ]
  },
  {
   "cell_type": "code",
   "execution_count": 17,
   "metadata": {},
   "outputs": [
    {
     "name": "stdout",
     "output_type": "stream",
     "text": [
      "The mean hedge error is: 0.2703498601913452\n",
      "The normalized std of the hedge error is: 0.08254069089889526\n"
     ]
    }
   ],
   "source": [
    "results = update_results(stock_paths, expiration, vols, correlation, N, ticksize)"
   ]
  },
  {
   "cell_type": "markdown",
   "metadata": {},
   "source": [
    "### Different volatilites\n",
    "\n",
    "$$\n",
    "S_1(0) = 100 \\quad S_2(0) = 100 \\quad \\sigma_1 = 0.3 \\quad \\sigma_2 = 0.3\n",
    "$$"
   ]
  },
  {
   "cell_type": "code",
   "execution_count": 18,
   "metadata": {},
   "outputs": [],
   "source": [
    "s1_0, s2_0 = 100, 100\n",
    "mu_1, mu_2 = 0.0, 0.0\n",
    "sigma_1, sigma_2 = 0.3, 0.3\n",
    "rho = -0.5\n",
    "expiration = 1.0\n",
    "N = 252\n",
    "dt = expiration / N\n",
    "n_simulation = 1000\n",
    "ticksize = 0.00\n",
    "\n",
    "s0 = jnp.array([s1_0, s2_0])\n",
    "means = jnp.array([0.0, 0.0])\n",
    "vols = jnp.array([sigma_1, sigma_2])\n",
    "correlation = jnp.array([[1, rho], [rho, 1]], dtype=jnp.float32)\n",
    "\n",
    "gbm = MultiGeometricBrownianMotion(s0, means, vols, correlation, dtype=jnp.float32)\n",
    "stock_paths = gbm.sample_paths(expiration, N, n_simulation)"
   ]
  },
  {
   "cell_type": "code",
   "execution_count": 19,
   "metadata": {},
   "outputs": [
    {
     "name": "stdout",
     "output_type": "stream",
     "text": [
      "The mean hedge error is: 0.4979100823402405\n",
      "The normalized std of the hedge error is: 0.0523429736495018\n"
     ]
    }
   ],
   "source": [
    "results = update_results(stock_paths, expiration, vols, correlation, N, ticksize)"
   ]
  },
  {
   "cell_type": "markdown",
   "metadata": {},
   "source": [
    "$$\n",
    "S_1(0) = 100 \\quad S_2(0) = 100 \\quad \\sigma_1 = 0.1 \\quad \\sigma_2 = 0.1\n",
    "$$"
   ]
  },
  {
   "cell_type": "code",
   "execution_count": 20,
   "metadata": {},
   "outputs": [],
   "source": [
    "sigma_1, sigma_2 = 0.1, 0.1\n",
    "\n",
    "vols = jnp.array([sigma_1, sigma_2])\n",
    "\n",
    "gbm = MultiGeometricBrownianMotion(s0, means, vols, correlation, dtype=jnp.float32)\n",
    "stock_paths = gbm.sample_paths(expiration, N, n_simulation)"
   ]
  },
  {
   "cell_type": "code",
   "execution_count": 21,
   "metadata": {},
   "outputs": [
    {
     "name": "stdout",
     "output_type": "stream",
     "text": [
      "The mean hedge error is: 0.16971483826637268\n",
      "The normalized std of the hedge error is: 0.0557357557117939\n"
     ]
    }
   ],
   "source": [
    "results = update_results(stock_paths, expiration, vols, correlation, N, ticksize)"
   ]
  },
  {
   "cell_type": "markdown",
   "metadata": {},
   "source": [
    "$$\n",
    "S_1(0) = 100 \\quad S_2(0) = 100 \\quad \\sigma_1 = 0.1 \\quad \\sigma_2 = 0.3\n",
    "$$"
   ]
  },
  {
   "cell_type": "code",
   "execution_count": 22,
   "metadata": {},
   "outputs": [],
   "source": [
    "sigma_1, sigma_2 = 0.1, 0.3\n",
    "\n",
    "vols = jnp.array([sigma_1, sigma_2])\n",
    "\n",
    "gbm = MultiGeometricBrownianMotion(s0, means, vols, correlation, dtype=jnp.float32)\n",
    "stock_paths = gbm.sample_paths(expiration, N, n_simulation)"
   ]
  },
  {
   "cell_type": "code",
   "execution_count": 23,
   "metadata": {},
   "outputs": [
    {
     "name": "stdout",
     "output_type": "stream",
     "text": [
      "The mean hedge error is: 1.369853138923645\n",
      "The normalized std of the hedge error is: 0.06112033128738403\n"
     ]
    }
   ],
   "source": [
    "results = update_results(stock_paths, expiration, vols, correlation, N, ticksize)"
   ]
  },
  {
   "cell_type": "markdown",
   "metadata": {},
   "source": [
    "$$\n",
    "S_1(0) = 100 \\quad S_2(0) = 100 \\quad \\sigma_1 = 0.3 \\quad \\sigma_2 = 0.1\n",
    "$$"
   ]
  },
  {
   "cell_type": "code",
   "execution_count": 24,
   "metadata": {},
   "outputs": [],
   "source": [
    "sigma_1, sigma_2 = 0.3, 0.1\n",
    "\n",
    "vols = jnp.array([sigma_1, sigma_2])\n",
    "\n",
    "gbm = MultiGeometricBrownianMotion(s0, means, vols, correlation, dtype=jnp.float32)\n",
    "stock_paths = gbm.sample_paths(expiration, N, n_simulation)"
   ]
  },
  {
   "cell_type": "code",
   "execution_count": 25,
   "metadata": {},
   "outputs": [
    {
     "name": "stdout",
     "output_type": "stream",
     "text": [
      "The mean hedge error is: -0.81443190574646\n",
      "The normalized std of the hedge error is: 0.06281157582998276\n"
     ]
    }
   ],
   "source": [
    "results = update_results(stock_paths, expiration, vols, correlation, N, ticksize)"
   ]
  },
  {
   "cell_type": "markdown",
   "metadata": {},
   "source": [
    "### Different volatilites\n",
    "\n",
    "$$\n",
    "S_1(0) = 100 \\quad S_2(0) = 100 \\quad \\sigma_1 = 0.2 \\quad \\sigma_2 = 0.2 \\quad \\rho = 0.5\n",
    "$$"
   ]
  },
  {
   "cell_type": "code",
   "execution_count": 26,
   "metadata": {},
   "outputs": [],
   "source": [
    "s1_0, s2_0 = 100, 100\n",
    "mu_1, mu_2 = 0.0, 0.0\n",
    "sigma_1, sigma_2 = 0.2, 0.2\n",
    "rho = 0.5\n",
    "expiration = 1.0\n",
    "N = 252\n",
    "dt = expiration / N\n",
    "n_simulation = 1000\n",
    "ticksize = 0.00\n",
    "\n",
    "s0 = jnp.array([s1_0, s2_0])\n",
    "means = jnp.array([0.0, 0.0])\n",
    "vols = jnp.array([sigma_1, sigma_2])\n",
    "correlation = jnp.array([[1, rho], [rho, 1]], dtype=jnp.float32)\n",
    "\n",
    "gbm = MultiGeometricBrownianMotion(s0, means, vols, correlation, dtype=jnp.float32)\n",
    "stock_paths = gbm.sample_paths(expiration, N, n_simulation)"
   ]
  },
  {
   "cell_type": "code",
   "execution_count": 27,
   "metadata": {},
   "outputs": [
    {
     "name": "stdout",
     "output_type": "stream",
     "text": [
      "The mean hedge error is: -0.46479177474975586\n",
      "The normalized std of the hedge error is: 0.061586618423461914\n"
     ]
    }
   ],
   "source": [
    "results = update_results(stock_paths, expiration, vols, correlation, N, ticksize)"
   ]
  },
  {
   "cell_type": "markdown",
   "metadata": {},
   "source": [
    "$$\n",
    "S_1(0) = 100 \\quad S_2(0) = 100 \\quad \\sigma_1 = 0.1 \\quad \\sigma_2 = 0.1 \\quad \\rho = 0.0\n",
    "$$"
   ]
  },
  {
   "cell_type": "code",
   "execution_count": 28,
   "metadata": {},
   "outputs": [],
   "source": [
    "rho = 0.0\n",
    "\n",
    "correlation = jnp.array([[1, rho], [rho, 1]], dtype=jnp.float32)\n",
    "\n",
    "gbm = MultiGeometricBrownianMotion(s0, means, vols, correlation, dtype=jnp.float32)\n",
    "stock_paths = gbm.sample_paths(expiration, N, n_simulation)"
   ]
  },
  {
   "cell_type": "code",
   "execution_count": 29,
   "metadata": {},
   "outputs": [
    {
     "name": "stdout",
     "output_type": "stream",
     "text": [
      "The mean hedge error is: 0.019558504223823547\n",
      "The normalized std of the hedge error is: 0.059460531920194626\n"
     ]
    }
   ],
   "source": [
    "results = update_results(stock_paths, expiration, vols, correlation, N, ticksize)"
   ]
  },
  {
   "cell_type": "markdown",
   "metadata": {},
   "source": [
    "$$\n",
    "S_1(0) = 100 \\quad S_2(0) = 100 \\quad \\sigma_1 = 0.1 \\quad \\sigma_2 = 0.1 \\quad \\rho = -0.2\n",
    "$$"
   ]
  },
  {
   "cell_type": "code",
   "execution_count": 30,
   "metadata": {},
   "outputs": [],
   "source": [
    "rho = -0.2\n",
    "\n",
    "correlation = jnp.array([[1, rho], [rho, 1]], dtype=jnp.float32)\n",
    "\n",
    "gbm = MultiGeometricBrownianMotion(s0, means, vols, correlation, dtype=jnp.float32)\n",
    "stock_paths = gbm.sample_paths(expiration, N, n_simulation)"
   ]
  },
  {
   "cell_type": "code",
   "execution_count": 31,
   "metadata": {},
   "outputs": [
    {
     "name": "stdout",
     "output_type": "stream",
     "text": [
      "The mean hedge error is: 0.05439833551645279\n",
      "The normalized std of the hedge error is: 0.05264061689376831\n"
     ]
    }
   ],
   "source": [
    "results = update_results(stock_paths, expiration, vols, correlation, N, ticksize)"
   ]
  },
  {
   "cell_type": "markdown",
   "metadata": {},
   "source": [
    "$$\n",
    "S_1(0) = 100 \\quad S_2(0) = 100 \\quad \\sigma_1 = 0.1 \\quad \\sigma_2 = 0.1 \\quad \\rho = 0.2\n",
    "$$"
   ]
  },
  {
   "cell_type": "code",
   "execution_count": 32,
   "metadata": {},
   "outputs": [],
   "source": [
    "rho = 0.2\n",
    "\n",
    "correlation = jnp.array([[1, rho], [rho, 1]], dtype=jnp.float32)\n",
    "\n",
    "gbm = MultiGeometricBrownianMotion(s0, means, vols, correlation, dtype=jnp.float32)\n",
    "stock_paths = gbm.sample_paths(expiration, N, n_simulation)"
   ]
  },
  {
   "cell_type": "code",
   "execution_count": 33,
   "metadata": {},
   "outputs": [
    {
     "name": "stdout",
     "output_type": "stream",
     "text": [
      "The mean hedge error is: 0.014626985415816307\n",
      "The normalized std of the hedge error is: 0.057423125952482224\n"
     ]
    }
   ],
   "source": [
    "results = update_results(stock_paths, expiration, vols, correlation, N, ticksize)"
   ]
  },
  {
   "cell_type": "markdown",
   "metadata": {},
   "source": [
    "### Different rebalancing periods\n",
    "\n",
    "$$\n",
    "N = 121\n",
    "$$"
   ]
  },
  {
   "cell_type": "code",
   "execution_count": 34,
   "metadata": {},
   "outputs": [],
   "source": [
    "s1_0, s2_0 = 100, 100\n",
    "mu_1, mu_2 = 0.0, 0.0\n",
    "sigma_1, sigma_2 = 0.2, 0.2\n",
    "rho = -0.5\n",
    "expiration = 1.0\n",
    "N = 121\n",
    "dt = expiration / N\n",
    "n_simulation = 1000\n",
    "ticksize = 0.00\n",
    "\n",
    "s0 = jnp.array([s1_0, s2_0])\n",
    "means = jnp.array([0.0, 0.0])\n",
    "vols = jnp.array([sigma_1, sigma_2])\n",
    "correlation = jnp.array([[1, rho], [rho, 1]], dtype=jnp.float32)\n",
    "\n",
    "gbm = MultiGeometricBrownianMotion(s0, means, vols, correlation, dtype=jnp.float32)\n",
    "stock_paths = gbm.sample_paths(expiration, N, n_simulation)"
   ]
  },
  {
   "cell_type": "code",
   "execution_count": 35,
   "metadata": {},
   "outputs": [
    {
     "name": "stdout",
     "output_type": "stream",
     "text": [
      "The mean hedge error is: 0.35516199469566345\n",
      "The normalized std of the hedge error is: 0.07791232317686081\n"
     ]
    }
   ],
   "source": [
    "results = update_results(stock_paths, expiration, vols, correlation, N, ticksize)"
   ]
  },
  {
   "cell_type": "markdown",
   "metadata": {},
   "source": [
    "$$\n",
    "N = 52\n",
    "$$"
   ]
  },
  {
   "cell_type": "code",
   "execution_count": 36,
   "metadata": {},
   "outputs": [],
   "source": [
    "s1_0, s2_0 = 100, 100\n",
    "mu_1, mu_2 = 0.0, 0.0\n",
    "sigma_1, sigma_2 = 0.2, 0.2\n",
    "rho = -0.5\n",
    "expiration = 1.0\n",
    "N = 52\n",
    "dt = expiration / N\n",
    "n_simulation = 1000\n",
    "ticksize = 0.00\n",
    "\n",
    "s0 = jnp.array([s1_0, s2_0])\n",
    "means = jnp.array([0.0, 0.0])\n",
    "vols = jnp.array([sigma_1, sigma_2])\n",
    "correlation = jnp.array([[1, rho], [rho, 1]], dtype=jnp.float32)\n",
    "\n",
    "gbm = MultiGeometricBrownianMotion(s0, means, vols, correlation, dtype=jnp.float32)\n",
    "stock_paths = gbm.sample_paths(expiration, N, n_simulation)"
   ]
  },
  {
   "cell_type": "code",
   "execution_count": 37,
   "metadata": {},
   "outputs": [
    {
     "name": "stdout",
     "output_type": "stream",
     "text": [
      "The mean hedge error is: 0.47219622135162354\n",
      "The normalized std of the hedge error is: 0.11919223517179489\n"
     ]
    }
   ],
   "source": [
    "results = update_results(stock_paths, expiration, vols, correlation, N, ticksize)"
   ]
  },
  {
   "cell_type": "code",
   "execution_count": 38,
   "metadata": {},
   "outputs": [
    {
     "data": {
      "text/html": [
       "<div>\n",
       "<style scoped>\n",
       "    .dataframe tbody tr th:only-of-type {\n",
       "        vertical-align: middle;\n",
       "    }\n",
       "\n",
       "    .dataframe tbody tr th {\n",
       "        vertical-align: top;\n",
       "    }\n",
       "\n",
       "    .dataframe thead th {\n",
       "        text-align: right;\n",
       "    }\n",
       "</style>\n",
       "<table border=\"1\" class=\"dataframe\">\n",
       "  <thead>\n",
       "    <tr style=\"text-align: right;\">\n",
       "      <th></th>\n",
       "      <th>S1_0</th>\n",
       "      <th>S2_0</th>\n",
       "      <th>Volatility_1</th>\n",
       "      <th>Volatility_2</th>\n",
       "      <th>Maturity</th>\n",
       "      <th>Rebalancing_freq</th>\n",
       "      <th>Correlation</th>\n",
       "      <th>E_PL_T</th>\n",
       "      <th>Std_PL_T</th>\n",
       "    </tr>\n",
       "  </thead>\n",
       "  <tbody>\n",
       "    <tr>\n",
       "      <th>0</th>\n",
       "      <td>100.0</td>\n",
       "      <td>100.0</td>\n",
       "      <td>0.2</td>\n",
       "      <td>0.2</td>\n",
       "      <td>1.0</td>\n",
       "      <td>252</td>\n",
       "      <td>-0.5</td>\n",
       "      <td>0.3005712</td>\n",
       "      <td>0.052476678</td>\n",
       "    </tr>\n",
       "    <tr>\n",
       "      <th>1</th>\n",
       "      <td>100.0</td>\n",
       "      <td>110.0</td>\n",
       "      <td>0.2</td>\n",
       "      <td>0.2</td>\n",
       "      <td>1.0</td>\n",
       "      <td>252</td>\n",
       "      <td>-0.5</td>\n",
       "      <td>0.3308047</td>\n",
       "      <td>0.037693582</td>\n",
       "    </tr>\n",
       "    <tr>\n",
       "      <th>2</th>\n",
       "      <td>100.0</td>\n",
       "      <td>120.0</td>\n",
       "      <td>0.2</td>\n",
       "      <td>0.2</td>\n",
       "      <td>1.0</td>\n",
       "      <td>252</td>\n",
       "      <td>-0.5</td>\n",
       "      <td>0.26628518</td>\n",
       "      <td>0.027673945</td>\n",
       "    </tr>\n",
       "    <tr>\n",
       "      <th>3</th>\n",
       "      <td>100.0</td>\n",
       "      <td>80.0</td>\n",
       "      <td>0.2</td>\n",
       "      <td>0.2</td>\n",
       "      <td>1.0</td>\n",
       "      <td>252</td>\n",
       "      <td>-0.5</td>\n",
       "      <td>0.24087866</td>\n",
       "      <td>0.12205779</td>\n",
       "    </tr>\n",
       "    <tr>\n",
       "      <th>4</th>\n",
       "      <td>100.0</td>\n",
       "      <td>90.0</td>\n",
       "      <td>0.2</td>\n",
       "      <td>0.2</td>\n",
       "      <td>1.0</td>\n",
       "      <td>252</td>\n",
       "      <td>-0.5</td>\n",
       "      <td>0.27034986</td>\n",
       "      <td>0.08254069</td>\n",
       "    </tr>\n",
       "    <tr>\n",
       "      <th>5</th>\n",
       "      <td>100.0</td>\n",
       "      <td>100.0</td>\n",
       "      <td>0.3</td>\n",
       "      <td>0.3</td>\n",
       "      <td>1.0</td>\n",
       "      <td>252</td>\n",
       "      <td>-0.5</td>\n",
       "      <td>0.49791008</td>\n",
       "      <td>0.052342974</td>\n",
       "    </tr>\n",
       "    <tr>\n",
       "      <th>6</th>\n",
       "      <td>100.0</td>\n",
       "      <td>100.0</td>\n",
       "      <td>0.1</td>\n",
       "      <td>0.1</td>\n",
       "      <td>1.0</td>\n",
       "      <td>252</td>\n",
       "      <td>-0.5</td>\n",
       "      <td>0.16971484</td>\n",
       "      <td>0.055735756</td>\n",
       "    </tr>\n",
       "    <tr>\n",
       "      <th>7</th>\n",
       "      <td>100.0</td>\n",
       "      <td>100.0</td>\n",
       "      <td>0.1</td>\n",
       "      <td>0.3</td>\n",
       "      <td>1.0</td>\n",
       "      <td>252</td>\n",
       "      <td>-0.5</td>\n",
       "      <td>1.3698531</td>\n",
       "      <td>0.06112033</td>\n",
       "    </tr>\n",
       "    <tr>\n",
       "      <th>8</th>\n",
       "      <td>100.0</td>\n",
       "      <td>100.0</td>\n",
       "      <td>0.3</td>\n",
       "      <td>0.1</td>\n",
       "      <td>1.0</td>\n",
       "      <td>252</td>\n",
       "      <td>-0.5</td>\n",
       "      <td>-0.8144319</td>\n",
       "      <td>0.062811576</td>\n",
       "    </tr>\n",
       "    <tr>\n",
       "      <th>9</th>\n",
       "      <td>100.0</td>\n",
       "      <td>100.0</td>\n",
       "      <td>0.2</td>\n",
       "      <td>0.2</td>\n",
       "      <td>1.0</td>\n",
       "      <td>252</td>\n",
       "      <td>0.5</td>\n",
       "      <td>-0.46479177</td>\n",
       "      <td>0.06158662</td>\n",
       "    </tr>\n",
       "    <tr>\n",
       "      <th>10</th>\n",
       "      <td>100.0</td>\n",
       "      <td>100.0</td>\n",
       "      <td>0.2</td>\n",
       "      <td>0.2</td>\n",
       "      <td>1.0</td>\n",
       "      <td>252</td>\n",
       "      <td>0.0</td>\n",
       "      <td>0.019558504</td>\n",
       "      <td>0.059460532</td>\n",
       "    </tr>\n",
       "    <tr>\n",
       "      <th>11</th>\n",
       "      <td>100.0</td>\n",
       "      <td>100.0</td>\n",
       "      <td>0.2</td>\n",
       "      <td>0.2</td>\n",
       "      <td>1.0</td>\n",
       "      <td>252</td>\n",
       "      <td>-0.2</td>\n",
       "      <td>0.054398336</td>\n",
       "      <td>0.052640617</td>\n",
       "    </tr>\n",
       "    <tr>\n",
       "      <th>12</th>\n",
       "      <td>100.0</td>\n",
       "      <td>100.0</td>\n",
       "      <td>0.2</td>\n",
       "      <td>0.2</td>\n",
       "      <td>1.0</td>\n",
       "      <td>252</td>\n",
       "      <td>0.2</td>\n",
       "      <td>0.014626985</td>\n",
       "      <td>0.057423126</td>\n",
       "    </tr>\n",
       "    <tr>\n",
       "      <th>13</th>\n",
       "      <td>100.0</td>\n",
       "      <td>100.0</td>\n",
       "      <td>0.2</td>\n",
       "      <td>0.2</td>\n",
       "      <td>1.0</td>\n",
       "      <td>121</td>\n",
       "      <td>-0.5</td>\n",
       "      <td>0.355162</td>\n",
       "      <td>0.07791232</td>\n",
       "    </tr>\n",
       "    <tr>\n",
       "      <th>14</th>\n",
       "      <td>100.0</td>\n",
       "      <td>100.0</td>\n",
       "      <td>0.2</td>\n",
       "      <td>0.2</td>\n",
       "      <td>1.0</td>\n",
       "      <td>52</td>\n",
       "      <td>-0.5</td>\n",
       "      <td>0.47219622</td>\n",
       "      <td>0.119192235</td>\n",
       "    </tr>\n",
       "  </tbody>\n",
       "</table>\n",
       "</div>"
      ],
      "text/plain": [
       "     S1_0   S2_0 Volatility_1 Volatility_2  Maturity  Rebalancing_freq  \\\n",
       "0   100.0  100.0          0.2          0.2       1.0               252   \n",
       "1   100.0  110.0          0.2          0.2       1.0               252   \n",
       "2   100.0  120.0          0.2          0.2       1.0               252   \n",
       "3   100.0   80.0          0.2          0.2       1.0               252   \n",
       "4   100.0   90.0          0.2          0.2       1.0               252   \n",
       "5   100.0  100.0          0.3          0.3       1.0               252   \n",
       "6   100.0  100.0          0.1          0.1       1.0               252   \n",
       "7   100.0  100.0          0.1          0.3       1.0               252   \n",
       "8   100.0  100.0          0.3          0.1       1.0               252   \n",
       "9   100.0  100.0          0.2          0.2       1.0               252   \n",
       "10  100.0  100.0          0.2          0.2       1.0               252   \n",
       "11  100.0  100.0          0.2          0.2       1.0               252   \n",
       "12  100.0  100.0          0.2          0.2       1.0               252   \n",
       "13  100.0  100.0          0.2          0.2       1.0               121   \n",
       "14  100.0  100.0          0.2          0.2       1.0                52   \n",
       "\n",
       "   Correlation       E_PL_T     Std_PL_T  \n",
       "0         -0.5    0.3005712  0.052476678  \n",
       "1         -0.5    0.3308047  0.037693582  \n",
       "2         -0.5   0.26628518  0.027673945  \n",
       "3         -0.5   0.24087866   0.12205779  \n",
       "4         -0.5   0.27034986   0.08254069  \n",
       "5         -0.5   0.49791008  0.052342974  \n",
       "6         -0.5   0.16971484  0.055735756  \n",
       "7         -0.5    1.3698531   0.06112033  \n",
       "8         -0.5   -0.8144319  0.062811576  \n",
       "9          0.5  -0.46479177   0.06158662  \n",
       "10         0.0  0.019558504  0.059460532  \n",
       "11        -0.2  0.054398336  0.052640617  \n",
       "12         0.2  0.014626985  0.057423126  \n",
       "13        -0.5     0.355162   0.07791232  \n",
       "14        -0.5   0.47219622  0.119192235  "
      ]
     },
     "execution_count": 38,
     "metadata": {},
     "output_type": "execute_result"
    }
   ],
   "source": [
    "res_df = pd.DataFrame.from_dict(results)\n",
    "res_df"
   ]
  },
  {
   "cell_type": "code",
   "execution_count": 39,
   "metadata": {},
   "outputs": [],
   "source": [
    "res_df.to_csv('./results/margrabe_delta_zero.csv')"
   ]
  },
  {
   "cell_type": "markdown",
   "metadata": {},
   "source": [
    "## Hedging experiment with low transaction costs"
   ]
  },
  {
   "cell_type": "code",
   "execution_count": 40,
   "metadata": {},
   "outputs": [],
   "source": [
    "s1_0, s2_0 = 100, 100\n",
    "mu_1, mu_2 = 0.0, 0.0\n",
    "sigma_1, sigma_2 = 0.2, 0.2\n",
    "rho = -0.5\n",
    "expiration = 1.0\n",
    "N = 252\n",
    "dt = expiration / N\n",
    "n_simulation = 1000\n",
    "ticksize = 0.01\n",
    "\n",
    "s0 = jnp.array([s1_0, s2_0])\n",
    "means = jnp.array([0.0, 0.0])\n",
    "vols = jnp.array([sigma_1, sigma_2])\n",
    "correlation = jnp.array([[1, rho], [rho, 1]], dtype=jnp.float32)\n",
    "\n",
    "gbm = MultiGeometricBrownianMotion(s0, means, vols, correlation, dtype=jnp.float32)\n",
    "stock_paths = gbm.sample_paths(expiration, N, n_simulation)"
   ]
  },
  {
   "cell_type": "code",
   "execution_count": 41,
   "metadata": {},
   "outputs": [],
   "source": [
    "results = {\n",
    "    'S1_0': [],\n",
    "    'S2_0': [],\n",
    "    'Volatility_1': [],\n",
    "    'Volatility_2': [],\n",
    "    'Maturity': [],\n",
    "    'Rebalancing_freq': [],\n",
    "    'Correlation': [],\n",
    "    'E_PL_T': [],\n",
    "    'Std_PL_T': []\n",
    "}"
   ]
  },
  {
   "cell_type": "code",
   "execution_count": 42,
   "metadata": {},
   "outputs": [
    {
     "name": "stdout",
     "output_type": "stream",
     "text": [
      "The mean hedge error is: 0.21832206845283508\n",
      "The normalized std of the hedge error is: 0.054358888417482376\n"
     ]
    }
   ],
   "source": [
    "results = update_results(stock_paths, expiration, vols, correlation, N, ticksize)"
   ]
  },
  {
   "cell_type": "markdown",
   "metadata": {},
   "source": [
    "### Different starting stock prices\n",
    "\n",
    "$$\n",
    "S_1(0) = 100 \\quad S_2(0) = 110\n",
    "$$"
   ]
  },
  {
   "cell_type": "code",
   "execution_count": 43,
   "metadata": {},
   "outputs": [],
   "source": [
    "s1_0 = 100\n",
    "s2_0 = 110\n",
    "\n",
    "s0 = jnp.array([s1_0, s2_0])\n",
    "\n",
    "gbm = MultiGeometricBrownianMotion(s0, means, vols, correlation, dtype=jnp.float32)\n",
    "stock_paths = gbm.sample_paths(expiration, N, n_simulation)"
   ]
  },
  {
   "cell_type": "code",
   "execution_count": 44,
   "metadata": {},
   "outputs": [
    {
     "name": "stdout",
     "output_type": "stream",
     "text": [
      "The mean hedge error is: 0.25730669498443604\n",
      "The normalized std of the hedge error is: 0.041085630655288696\n"
     ]
    }
   ],
   "source": [
    "results = update_results(stock_paths, expiration, vols, correlation, N, ticksize)"
   ]
  },
  {
   "cell_type": "markdown",
   "metadata": {},
   "source": [
    "$$\n",
    "S_1(0) = 100 \\quad S_2(0) = 120\n",
    "$$"
   ]
  },
  {
   "cell_type": "code",
   "execution_count": 45,
   "metadata": {},
   "outputs": [],
   "source": [
    "s1_0 = 100\n",
    "s2_0 = 120\n",
    "\n",
    "s0 = jnp.array([s1_0, s2_0])\n",
    "\n",
    "gbm = MultiGeometricBrownianMotion(s0, means, vols, correlation, dtype=jnp.float32)\n",
    "stock_paths = gbm.sample_paths(expiration, N, n_simulation)"
   ]
  },
  {
   "cell_type": "code",
   "execution_count": 46,
   "metadata": {},
   "outputs": [
    {
     "name": "stdout",
     "output_type": "stream",
     "text": [
      "The mean hedge error is: 0.23251210153102875\n",
      "The normalized std of the hedge error is: 0.028402747586369514\n"
     ]
    }
   ],
   "source": [
    "results = update_results(stock_paths, expiration, vols, correlation, N, ticksize)"
   ]
  },
  {
   "cell_type": "markdown",
   "metadata": {},
   "source": [
    "$$\n",
    "S_1(0) = 100 \\quad S_2(0) = 80\n",
    "$$"
   ]
  },
  {
   "cell_type": "code",
   "execution_count": 47,
   "metadata": {},
   "outputs": [],
   "source": [
    "s1_0 = 100\n",
    "s2_0 = 80\n",
    "\n",
    "s0 = jnp.array([s1_0, s2_0])\n",
    "\n",
    "gbm = MultiGeometricBrownianMotion(s0, means, vols, correlation, dtype=jnp.float32)\n",
    "stock_paths = gbm.sample_paths(expiration, N, n_simulation)"
   ]
  },
  {
   "cell_type": "code",
   "execution_count": 48,
   "metadata": {},
   "outputs": [
    {
     "name": "stdout",
     "output_type": "stream",
     "text": [
      "The mean hedge error is: 0.16526374220848083\n",
      "The normalized std of the hedge error is: 0.11387898772954941\n"
     ]
    }
   ],
   "source": [
    "results = update_results(stock_paths, expiration, vols, correlation, N, ticksize)"
   ]
  },
  {
   "cell_type": "markdown",
   "metadata": {},
   "source": [
    "$$\n",
    "S_1(0) = 100 \\quad S_2(0) = 90\n",
    "$$"
   ]
  },
  {
   "cell_type": "code",
   "execution_count": 49,
   "metadata": {},
   "outputs": [],
   "source": [
    "s1_0 = 100\n",
    "s2_0 = 90\n",
    "\n",
    "s0 = jnp.array([s1_0, s2_0])\n",
    "\n",
    "gbm = MultiGeometricBrownianMotion(s0, means, vols, correlation, dtype=jnp.float32)\n",
    "stock_paths = gbm.sample_paths(expiration, N, n_simulation)"
   ]
  },
  {
   "cell_type": "code",
   "execution_count": 50,
   "metadata": {},
   "outputs": [
    {
     "name": "stdout",
     "output_type": "stream",
     "text": [
      "The mean hedge error is: 0.1635812222957611\n",
      "The normalized std of the hedge error is: 0.07839024066925049\n"
     ]
    }
   ],
   "source": [
    "results = update_results(stock_paths, expiration, vols, correlation, N, ticksize)"
   ]
  },
  {
   "cell_type": "markdown",
   "metadata": {},
   "source": [
    "### Different volatilites\n",
    "\n",
    "$$\n",
    "S_1(0) = 100 \\quad S_2(0) = 100 \\quad \\sigma_1 = 0.3 \\quad \\sigma_2 = 0.3\n",
    "$$"
   ]
  },
  {
   "cell_type": "code",
   "execution_count": 51,
   "metadata": {},
   "outputs": [],
   "source": [
    "s1_0, s2_0 = 100, 100\n",
    "mu_1, mu_2 = 0.0, 0.0\n",
    "sigma_1, sigma_2 = 0.3, 0.3\n",
    "rho = -0.5\n",
    "expiration = 1.0\n",
    "N = 252\n",
    "dt = expiration / N\n",
    "n_simulation = 1000\n",
    "ticksize = 0.00\n",
    "\n",
    "s0 = jnp.array([s1_0, s2_0])\n",
    "means = jnp.array([0.0, 0.0])\n",
    "vols = jnp.array([sigma_1, sigma_2])\n",
    "correlation = jnp.array([[1, rho], [rho, 1]], dtype=jnp.float32)\n",
    "\n",
    "gbm = MultiGeometricBrownianMotion(s0, means, vols, correlation, dtype=jnp.float32)\n",
    "stock_paths = gbm.sample_paths(expiration, N, n_simulation)"
   ]
  },
  {
   "cell_type": "code",
   "execution_count": 52,
   "metadata": {},
   "outputs": [
    {
     "name": "stdout",
     "output_type": "stream",
     "text": [
      "The mean hedge error is: 0.5149011611938477\n",
      "The normalized std of the hedge error is: 0.0555887334048748\n"
     ]
    }
   ],
   "source": [
    "results = update_results(stock_paths, expiration, vols, correlation, N, ticksize)"
   ]
  },
  {
   "cell_type": "markdown",
   "metadata": {},
   "source": [
    "$$\n",
    "S_1(0) = 100 \\quad S_2(0) = 100 \\quad \\sigma_1 = 0.1 \\quad \\sigma_2 = 0.1\n",
    "$$"
   ]
  },
  {
   "cell_type": "code",
   "execution_count": 53,
   "metadata": {},
   "outputs": [],
   "source": [
    "sigma_1, sigma_2 = 0.1, 0.1\n",
    "\n",
    "vols = jnp.array([sigma_1, sigma_2])\n",
    "\n",
    "gbm = MultiGeometricBrownianMotion(s0, means, vols, correlation, dtype=jnp.float32)\n",
    "stock_paths = gbm.sample_paths(expiration, N, n_simulation)"
   ]
  },
  {
   "cell_type": "code",
   "execution_count": 54,
   "metadata": {},
   "outputs": [
    {
     "name": "stdout",
     "output_type": "stream",
     "text": [
      "The mean hedge error is: 0.13425327837467194\n",
      "The normalized std of the hedge error is: 0.055662740021944046\n"
     ]
    }
   ],
   "source": [
    "results = update_results(stock_paths, expiration, vols, correlation, N, ticksize)"
   ]
  },
  {
   "cell_type": "markdown",
   "metadata": {},
   "source": [
    "$$\n",
    "S_1(0) = 100 \\quad S_2(0) = 100 \\quad \\sigma_1 = 0.1 \\quad \\sigma_2 = 0.3\n",
    "$$"
   ]
  },
  {
   "cell_type": "code",
   "execution_count": 55,
   "metadata": {},
   "outputs": [],
   "source": [
    "sigma_1, sigma_2 = 0.1, 0.3\n",
    "\n",
    "vols = jnp.array([sigma_1, sigma_2])\n",
    "\n",
    "gbm = MultiGeometricBrownianMotion(s0, means, vols, correlation, dtype=jnp.float32)\n",
    "stock_paths = gbm.sample_paths(expiration, N, n_simulation)"
   ]
  },
  {
   "cell_type": "code",
   "execution_count": 56,
   "metadata": {},
   "outputs": [
    {
     "name": "stdout",
     "output_type": "stream",
     "text": [
      "The mean hedge error is: 1.3853529691696167\n",
      "The normalized std of the hedge error is: 0.06086169183254242\n"
     ]
    }
   ],
   "source": [
    "results = update_results(stock_paths, expiration, vols, correlation, N, ticksize)"
   ]
  },
  {
   "cell_type": "markdown",
   "metadata": {},
   "source": [
    "$$\n",
    "S_1(0) = 100 \\quad S_2(0) = 100 \\quad \\sigma_1 = 0.3 \\quad \\sigma_2 = 0.1\n",
    "$$"
   ]
  },
  {
   "cell_type": "code",
   "execution_count": 57,
   "metadata": {},
   "outputs": [],
   "source": [
    "sigma_1, sigma_2 = 0.3, 0.1\n",
    "\n",
    "vols = jnp.array([sigma_1, sigma_2])\n",
    "\n",
    "gbm = MultiGeometricBrownianMotion(s0, means, vols, correlation, dtype=jnp.float32)\n",
    "stock_paths = gbm.sample_paths(expiration, N, n_simulation)"
   ]
  },
  {
   "cell_type": "code",
   "execution_count": 58,
   "metadata": {},
   "outputs": [
    {
     "name": "stdout",
     "output_type": "stream",
     "text": [
      "The mean hedge error is: -0.8013604879379272\n",
      "The normalized std of the hedge error is: 0.06317941844463348\n"
     ]
    }
   ],
   "source": [
    "results = update_results(stock_paths, expiration, vols, correlation, N, ticksize)"
   ]
  },
  {
   "cell_type": "markdown",
   "metadata": {},
   "source": [
    "### Different volatilites\n",
    "\n",
    "$$\n",
    "S_1(0) = 100 \\quad S_2(0) = 100 \\quad \\sigma_1 = 0.2 \\quad \\sigma_2 = 0.2 \\quad \\rho = 0.5\n",
    "$$"
   ]
  },
  {
   "cell_type": "code",
   "execution_count": 59,
   "metadata": {},
   "outputs": [],
   "source": [
    "s1_0, s2_0 = 100, 100\n",
    "mu_1, mu_2 = 0.0, 0.0\n",
    "sigma_1, sigma_2 = 0.2, 0.2\n",
    "rho = 0.5\n",
    "expiration = 1.0\n",
    "N = 252\n",
    "dt = expiration / N\n",
    "n_simulation = 1000\n",
    "ticksize = 0.00\n",
    "\n",
    "s0 = jnp.array([s1_0, s2_0])\n",
    "means = jnp.array([0.0, 0.0])\n",
    "vols = jnp.array([sigma_1, sigma_2])\n",
    "correlation = jnp.array([[1, rho], [rho, 1]], dtype=jnp.float32)\n",
    "\n",
    "gbm = MultiGeometricBrownianMotion(s0, means, vols, correlation, dtype=jnp.float32)\n",
    "stock_paths = gbm.sample_paths(expiration, N, n_simulation)"
   ]
  },
  {
   "cell_type": "code",
   "execution_count": 60,
   "metadata": {},
   "outputs": [
    {
     "name": "stdout",
     "output_type": "stream",
     "text": [
      "The mean hedge error is: -0.4971129596233368\n",
      "The normalized std of the hedge error is: 0.06387461721897125\n"
     ]
    }
   ],
   "source": [
    "results = update_results(stock_paths, expiration, vols, correlation, N, ticksize)"
   ]
  },
  {
   "cell_type": "markdown",
   "metadata": {},
   "source": [
    "$$\n",
    "S_1(0) = 100 \\quad S_2(0) = 100 \\quad \\sigma_1 = 0.1 \\quad \\sigma_2 = 0.1 \\quad \\rho = 0.0\n",
    "$$"
   ]
  },
  {
   "cell_type": "code",
   "execution_count": 61,
   "metadata": {},
   "outputs": [],
   "source": [
    "rho = 0.0\n",
    "\n",
    "correlation = jnp.array([[1, rho], [rho, 1]], dtype=jnp.float32)\n",
    "\n",
    "gbm = MultiGeometricBrownianMotion(s0, means, vols, correlation, dtype=jnp.float32)\n",
    "stock_paths = gbm.sample_paths(expiration, N, n_simulation)"
   ]
  },
  {
   "cell_type": "code",
   "execution_count": 62,
   "metadata": {},
   "outputs": [
    {
     "name": "stdout",
     "output_type": "stream",
     "text": [
      "The mean hedge error is: 0.03898519650101662\n",
      "The normalized std of the hedge error is: 0.05534921586513519\n"
     ]
    }
   ],
   "source": [
    "results = update_results(stock_paths, expiration, vols, correlation, N, ticksize)"
   ]
  },
  {
   "cell_type": "markdown",
   "metadata": {},
   "source": [
    "$$\n",
    "S_1(0) = 100 \\quad S_2(0) = 100 \\quad \\sigma_1 = 0.1 \\quad \\sigma_2 = 0.1 \\quad \\rho = -0.2\n",
    "$$"
   ]
  },
  {
   "cell_type": "code",
   "execution_count": 63,
   "metadata": {},
   "outputs": [],
   "source": [
    "rho = -0.2\n",
    "\n",
    "correlation = jnp.array([[1, rho], [rho, 1]], dtype=jnp.float32)\n",
    "\n",
    "gbm = MultiGeometricBrownianMotion(s0, means, vols, correlation, dtype=jnp.float32)\n",
    "stock_paths = gbm.sample_paths(expiration, N, n_simulation)"
   ]
  },
  {
   "cell_type": "code",
   "execution_count": 64,
   "metadata": {},
   "outputs": [
    {
     "name": "stdout",
     "output_type": "stream",
     "text": [
      "The mean hedge error is: 0.04373753443360329\n",
      "The normalized std of the hedge error is: 0.05525830388069153\n"
     ]
    }
   ],
   "source": [
    "results = update_results(stock_paths, expiration, vols, correlation, N, ticksize)"
   ]
  },
  {
   "cell_type": "markdown",
   "metadata": {},
   "source": [
    "$$\n",
    "S_1(0) = 100 \\quad S_2(0) = 100 \\quad \\sigma_1 = 0.1 \\quad \\sigma_2 = 0.1 \\quad \\rho = 0.2\n",
    "$$"
   ]
  },
  {
   "cell_type": "code",
   "execution_count": 65,
   "metadata": {},
   "outputs": [],
   "source": [
    "rho = 0.2\n",
    "\n",
    "correlation = jnp.array([[1, rho], [rho, 1]], dtype=jnp.float32)\n",
    "\n",
    "gbm = MultiGeometricBrownianMotion(s0, means, vols, correlation, dtype=jnp.float32)\n",
    "stock_paths = gbm.sample_paths(expiration, N, n_simulation)"
   ]
  },
  {
   "cell_type": "code",
   "execution_count": 66,
   "metadata": {},
   "outputs": [
    {
     "name": "stdout",
     "output_type": "stream",
     "text": [
      "The mean hedge error is: -0.0025193197652697563\n",
      "The normalized std of the hedge error is: 0.055398471653461456\n"
     ]
    }
   ],
   "source": [
    "results = update_results(stock_paths, expiration, vols, correlation, N, ticksize)"
   ]
  },
  {
   "cell_type": "markdown",
   "metadata": {},
   "source": [
    "### Different rebalancing periods\n",
    "\n",
    "$$\n",
    "N = 121\n",
    "$$"
   ]
  },
  {
   "cell_type": "code",
   "execution_count": 67,
   "metadata": {},
   "outputs": [],
   "source": [
    "s1_0, s2_0 = 100, 100\n",
    "mu_1, mu_2 = 0.0, 0.0\n",
    "sigma_1, sigma_2 = 0.2, 0.2\n",
    "rho = -0.5\n",
    "expiration = 1.0\n",
    "N = 121\n",
    "dt = expiration / N\n",
    "n_simulation = 1000\n",
    "ticksize = 0.00\n",
    "\n",
    "s0 = jnp.array([s1_0, s2_0])\n",
    "means = jnp.array([0.0, 0.0])\n",
    "vols = jnp.array([sigma_1, sigma_2])\n",
    "correlation = jnp.array([[1, rho], [rho, 1]], dtype=jnp.float32)\n",
    "\n",
    "gbm = MultiGeometricBrownianMotion(s0, means, vols, correlation, dtype=jnp.float32)\n",
    "stock_paths = gbm.sample_paths(expiration, N, n_simulation)"
   ]
  },
  {
   "cell_type": "code",
   "execution_count": 68,
   "metadata": {},
   "outputs": [
    {
     "name": "stdout",
     "output_type": "stream",
     "text": [
      "The mean hedge error is: 0.3598994314670563\n",
      "The normalized std of the hedge error is: 0.07980332523584366\n"
     ]
    }
   ],
   "source": [
    "results = update_results(stock_paths, expiration, vols, correlation, N, ticksize)"
   ]
  },
  {
   "cell_type": "markdown",
   "metadata": {},
   "source": [
    "$$\n",
    "N = 52\n",
    "$$"
   ]
  },
  {
   "cell_type": "code",
   "execution_count": 69,
   "metadata": {},
   "outputs": [],
   "source": [
    "s1_0, s2_0 = 100, 100\n",
    "mu_1, mu_2 = 0.0, 0.0\n",
    "sigma_1, sigma_2 = 0.2, 0.2\n",
    "rho = -0.5\n",
    "expiration = 1.0\n",
    "N = 52\n",
    "dt = expiration / N\n",
    "n_simulation = 1000\n",
    "ticksize = 0.00\n",
    "\n",
    "s0 = jnp.array([s1_0, s2_0])\n",
    "means = jnp.array([0.0, 0.0])\n",
    "vols = jnp.array([sigma_1, sigma_2])\n",
    "correlation = jnp.array([[1, rho], [rho, 1]], dtype=jnp.float32)\n",
    "\n",
    "gbm = MultiGeometricBrownianMotion(s0, means, vols, correlation, dtype=jnp.float32)\n",
    "stock_paths = gbm.sample_paths(expiration, N, n_simulation)"
   ]
  },
  {
   "cell_type": "code",
   "execution_count": 70,
   "metadata": {},
   "outputs": [
    {
     "name": "stdout",
     "output_type": "stream",
     "text": [
      "The mean hedge error is: 0.43382665514945984\n",
      "The normalized std of the hedge error is: 0.12226552516222\n"
     ]
    }
   ],
   "source": [
    "results = update_results(stock_paths, expiration, vols, correlation, N, ticksize)"
   ]
  },
  {
   "cell_type": "code",
   "execution_count": 71,
   "metadata": {},
   "outputs": [
    {
     "data": {
      "text/html": [
       "<div>\n",
       "<style scoped>\n",
       "    .dataframe tbody tr th:only-of-type {\n",
       "        vertical-align: middle;\n",
       "    }\n",
       "\n",
       "    .dataframe tbody tr th {\n",
       "        vertical-align: top;\n",
       "    }\n",
       "\n",
       "    .dataframe thead th {\n",
       "        text-align: right;\n",
       "    }\n",
       "</style>\n",
       "<table border=\"1\" class=\"dataframe\">\n",
       "  <thead>\n",
       "    <tr style=\"text-align: right;\">\n",
       "      <th></th>\n",
       "      <th>S1_0</th>\n",
       "      <th>S2_0</th>\n",
       "      <th>Volatility_1</th>\n",
       "      <th>Volatility_2</th>\n",
       "      <th>Maturity</th>\n",
       "      <th>Rebalancing_freq</th>\n",
       "      <th>Correlation</th>\n",
       "      <th>E_PL_T</th>\n",
       "      <th>Std_PL_T</th>\n",
       "    </tr>\n",
       "  </thead>\n",
       "  <tbody>\n",
       "    <tr>\n",
       "      <th>0</th>\n",
       "      <td>100.0</td>\n",
       "      <td>100.0</td>\n",
       "      <td>0.2</td>\n",
       "      <td>0.2</td>\n",
       "      <td>1.0</td>\n",
       "      <td>252</td>\n",
       "      <td>-0.5</td>\n",
       "      <td>0.21832207</td>\n",
       "      <td>0.05435889</td>\n",
       "    </tr>\n",
       "    <tr>\n",
       "      <th>1</th>\n",
       "      <td>100.0</td>\n",
       "      <td>110.0</td>\n",
       "      <td>0.2</td>\n",
       "      <td>0.2</td>\n",
       "      <td>1.0</td>\n",
       "      <td>252</td>\n",
       "      <td>-0.5</td>\n",
       "      <td>0.2573067</td>\n",
       "      <td>0.04108563</td>\n",
       "    </tr>\n",
       "    <tr>\n",
       "      <th>2</th>\n",
       "      <td>100.0</td>\n",
       "      <td>120.0</td>\n",
       "      <td>0.2</td>\n",
       "      <td>0.2</td>\n",
       "      <td>1.0</td>\n",
       "      <td>252</td>\n",
       "      <td>-0.5</td>\n",
       "      <td>0.2325121</td>\n",
       "      <td>0.028402748</td>\n",
       "    </tr>\n",
       "    <tr>\n",
       "      <th>3</th>\n",
       "      <td>100.0</td>\n",
       "      <td>80.0</td>\n",
       "      <td>0.2</td>\n",
       "      <td>0.2</td>\n",
       "      <td>1.0</td>\n",
       "      <td>252</td>\n",
       "      <td>-0.5</td>\n",
       "      <td>0.16526374</td>\n",
       "      <td>0.11387899</td>\n",
       "    </tr>\n",
       "    <tr>\n",
       "      <th>4</th>\n",
       "      <td>100.0</td>\n",
       "      <td>90.0</td>\n",
       "      <td>0.2</td>\n",
       "      <td>0.2</td>\n",
       "      <td>1.0</td>\n",
       "      <td>252</td>\n",
       "      <td>-0.5</td>\n",
       "      <td>0.16358122</td>\n",
       "      <td>0.07839024</td>\n",
       "    </tr>\n",
       "    <tr>\n",
       "      <th>5</th>\n",
       "      <td>100.0</td>\n",
       "      <td>100.0</td>\n",
       "      <td>0.3</td>\n",
       "      <td>0.3</td>\n",
       "      <td>1.0</td>\n",
       "      <td>252</td>\n",
       "      <td>-0.5</td>\n",
       "      <td>0.51490116</td>\n",
       "      <td>0.055588733</td>\n",
       "    </tr>\n",
       "    <tr>\n",
       "      <th>6</th>\n",
       "      <td>100.0</td>\n",
       "      <td>100.0</td>\n",
       "      <td>0.1</td>\n",
       "      <td>0.1</td>\n",
       "      <td>1.0</td>\n",
       "      <td>252</td>\n",
       "      <td>-0.5</td>\n",
       "      <td>0.13425328</td>\n",
       "      <td>0.05566274</td>\n",
       "    </tr>\n",
       "    <tr>\n",
       "      <th>7</th>\n",
       "      <td>100.0</td>\n",
       "      <td>100.0</td>\n",
       "      <td>0.1</td>\n",
       "      <td>0.3</td>\n",
       "      <td>1.0</td>\n",
       "      <td>252</td>\n",
       "      <td>-0.5</td>\n",
       "      <td>1.385353</td>\n",
       "      <td>0.06086169</td>\n",
       "    </tr>\n",
       "    <tr>\n",
       "      <th>8</th>\n",
       "      <td>100.0</td>\n",
       "      <td>100.0</td>\n",
       "      <td>0.3</td>\n",
       "      <td>0.1</td>\n",
       "      <td>1.0</td>\n",
       "      <td>252</td>\n",
       "      <td>-0.5</td>\n",
       "      <td>-0.8013605</td>\n",
       "      <td>0.06317942</td>\n",
       "    </tr>\n",
       "    <tr>\n",
       "      <th>9</th>\n",
       "      <td>100.0</td>\n",
       "      <td>100.0</td>\n",
       "      <td>0.2</td>\n",
       "      <td>0.2</td>\n",
       "      <td>1.0</td>\n",
       "      <td>252</td>\n",
       "      <td>0.5</td>\n",
       "      <td>-0.49711296</td>\n",
       "      <td>0.06387462</td>\n",
       "    </tr>\n",
       "    <tr>\n",
       "      <th>10</th>\n",
       "      <td>100.0</td>\n",
       "      <td>100.0</td>\n",
       "      <td>0.2</td>\n",
       "      <td>0.2</td>\n",
       "      <td>1.0</td>\n",
       "      <td>252</td>\n",
       "      <td>0.0</td>\n",
       "      <td>0.038985197</td>\n",
       "      <td>0.055349216</td>\n",
       "    </tr>\n",
       "    <tr>\n",
       "      <th>11</th>\n",
       "      <td>100.0</td>\n",
       "      <td>100.0</td>\n",
       "      <td>0.2</td>\n",
       "      <td>0.2</td>\n",
       "      <td>1.0</td>\n",
       "      <td>252</td>\n",
       "      <td>-0.2</td>\n",
       "      <td>0.043737534</td>\n",
       "      <td>0.055258304</td>\n",
       "    </tr>\n",
       "    <tr>\n",
       "      <th>12</th>\n",
       "      <td>100.0</td>\n",
       "      <td>100.0</td>\n",
       "      <td>0.2</td>\n",
       "      <td>0.2</td>\n",
       "      <td>1.0</td>\n",
       "      <td>252</td>\n",
       "      <td>0.2</td>\n",
       "      <td>-0.0025193198</td>\n",
       "      <td>0.05539847</td>\n",
       "    </tr>\n",
       "    <tr>\n",
       "      <th>13</th>\n",
       "      <td>100.0</td>\n",
       "      <td>100.0</td>\n",
       "      <td>0.2</td>\n",
       "      <td>0.2</td>\n",
       "      <td>1.0</td>\n",
       "      <td>121</td>\n",
       "      <td>-0.5</td>\n",
       "      <td>0.35989943</td>\n",
       "      <td>0.079803325</td>\n",
       "    </tr>\n",
       "    <tr>\n",
       "      <th>14</th>\n",
       "      <td>100.0</td>\n",
       "      <td>100.0</td>\n",
       "      <td>0.2</td>\n",
       "      <td>0.2</td>\n",
       "      <td>1.0</td>\n",
       "      <td>52</td>\n",
       "      <td>-0.5</td>\n",
       "      <td>0.43382666</td>\n",
       "      <td>0.122265525</td>\n",
       "    </tr>\n",
       "  </tbody>\n",
       "</table>\n",
       "</div>"
      ],
      "text/plain": [
       "     S1_0   S2_0 Volatility_1 Volatility_2  Maturity  Rebalancing_freq  \\\n",
       "0   100.0  100.0          0.2          0.2       1.0               252   \n",
       "1   100.0  110.0          0.2          0.2       1.0               252   \n",
       "2   100.0  120.0          0.2          0.2       1.0               252   \n",
       "3   100.0   80.0          0.2          0.2       1.0               252   \n",
       "4   100.0   90.0          0.2          0.2       1.0               252   \n",
       "5   100.0  100.0          0.3          0.3       1.0               252   \n",
       "6   100.0  100.0          0.1          0.1       1.0               252   \n",
       "7   100.0  100.0          0.1          0.3       1.0               252   \n",
       "8   100.0  100.0          0.3          0.1       1.0               252   \n",
       "9   100.0  100.0          0.2          0.2       1.0               252   \n",
       "10  100.0  100.0          0.2          0.2       1.0               252   \n",
       "11  100.0  100.0          0.2          0.2       1.0               252   \n",
       "12  100.0  100.0          0.2          0.2       1.0               252   \n",
       "13  100.0  100.0          0.2          0.2       1.0               121   \n",
       "14  100.0  100.0          0.2          0.2       1.0                52   \n",
       "\n",
       "   Correlation         E_PL_T     Std_PL_T  \n",
       "0         -0.5     0.21832207   0.05435889  \n",
       "1         -0.5      0.2573067   0.04108563  \n",
       "2         -0.5      0.2325121  0.028402748  \n",
       "3         -0.5     0.16526374   0.11387899  \n",
       "4         -0.5     0.16358122   0.07839024  \n",
       "5         -0.5     0.51490116  0.055588733  \n",
       "6         -0.5     0.13425328   0.05566274  \n",
       "7         -0.5       1.385353   0.06086169  \n",
       "8         -0.5     -0.8013605   0.06317942  \n",
       "9          0.5    -0.49711296   0.06387462  \n",
       "10         0.0    0.038985197  0.055349216  \n",
       "11        -0.2    0.043737534  0.055258304  \n",
       "12         0.2  -0.0025193198   0.05539847  \n",
       "13        -0.5     0.35989943  0.079803325  \n",
       "14        -0.5     0.43382666  0.122265525  "
      ]
     },
     "execution_count": 71,
     "metadata": {},
     "output_type": "execute_result"
    }
   ],
   "source": [
    "res_df = pd.DataFrame.from_dict(results)\n",
    "res_df"
   ]
  },
  {
   "cell_type": "code",
   "execution_count": 72,
   "metadata": {},
   "outputs": [],
   "source": [
    "res_df.to_csv('./results/margrabe_delta_low.csv')"
   ]
  },
  {
   "cell_type": "markdown",
   "metadata": {},
   "source": [
    "## Hedging experiment with high transaction costs"
   ]
  },
  {
   "cell_type": "code",
   "execution_count": 73,
   "metadata": {},
   "outputs": [],
   "source": [
    "s1_0, s2_0 = 100, 100\n",
    "mu_1, mu_2 = 0.0, 0.0\n",
    "sigma_1, sigma_2 = 0.2, 0.2\n",
    "rho = -0.5\n",
    "expiration = 1.0\n",
    "N = 252\n",
    "dt = expiration / N\n",
    "n_simulation = 1000\n",
    "ticksize = 0.05\n",
    "\n",
    "s0 = jnp.array([s1_0, s2_0])\n",
    "means = jnp.array([0.0, 0.0])\n",
    "vols = jnp.array([sigma_1, sigma_2])\n",
    "correlation = jnp.array([[1, rho], [rho, 1]], dtype=jnp.float32)\n",
    "\n",
    "gbm = MultiGeometricBrownianMotion(s0, means, vols, correlation, dtype=jnp.float32)\n",
    "stock_paths = gbm.sample_paths(expiration, N, n_simulation)"
   ]
  },
  {
   "cell_type": "code",
   "execution_count": 74,
   "metadata": {},
   "outputs": [],
   "source": [
    "results = {\n",
    "    'S1_0': [],\n",
    "    'S2_0': [],\n",
    "    'Volatility_1': [],\n",
    "    'Volatility_2': [],\n",
    "    'Maturity': [],\n",
    "    'Rebalancing_freq': [],\n",
    "    'Correlation': [],\n",
    "    'E_PL_T': [],\n",
    "    'Std_PL_T': []\n",
    "}"
   ]
  },
  {
   "cell_type": "code",
   "execution_count": 75,
   "metadata": {},
   "outputs": [
    {
     "name": "stdout",
     "output_type": "stream",
     "text": [
      "The mean hedge error is: -0.2091313898563385\n",
      "The normalized std of the hedge error is: 0.053352516144514084\n"
     ]
    }
   ],
   "source": [
    "results = update_results(stock_paths, expiration, vols, correlation, N, ticksize)"
   ]
  },
  {
   "cell_type": "markdown",
   "metadata": {},
   "source": [
    "### Different starting stock prices\n",
    "\n",
    "$$\n",
    "S_1(0) = 100 \\quad S_2(0) = 110\n",
    "$$"
   ]
  },
  {
   "cell_type": "code",
   "execution_count": 76,
   "metadata": {},
   "outputs": [],
   "source": [
    "s1_0 = 100\n",
    "s2_0 = 110\n",
    "\n",
    "s0 = jnp.array([s1_0, s2_0])\n",
    "\n",
    "gbm = MultiGeometricBrownianMotion(s0, means, vols, correlation, dtype=jnp.float32)\n",
    "stock_paths = gbm.sample_paths(expiration, N, n_simulation)"
   ]
  },
  {
   "cell_type": "code",
   "execution_count": 77,
   "metadata": {},
   "outputs": [
    {
     "name": "stdout",
     "output_type": "stream",
     "text": [
      "The mean hedge error is: -0.20903727412223816\n",
      "The normalized std of the hedge error is: 0.03815138339996338\n"
     ]
    }
   ],
   "source": [
    "results = update_results(stock_paths, expiration, vols, correlation, N, ticksize)"
   ]
  },
  {
   "cell_type": "markdown",
   "metadata": {},
   "source": [
    "$$\n",
    "S_1(0) = 100 \\quad S_2(0) = 120\n",
    "$$"
   ]
  },
  {
   "cell_type": "code",
   "execution_count": 78,
   "metadata": {},
   "outputs": [],
   "source": [
    "s1_0 = 100\n",
    "s2_0 = 120\n",
    "\n",
    "s0 = jnp.array([s1_0, s2_0])\n",
    "\n",
    "gbm = MultiGeometricBrownianMotion(s0, means, vols, correlation, dtype=jnp.float32)\n",
    "stock_paths = gbm.sample_paths(expiration, N, n_simulation)"
   ]
  },
  {
   "cell_type": "code",
   "execution_count": 79,
   "metadata": {},
   "outputs": [
    {
     "name": "stdout",
     "output_type": "stream",
     "text": [
      "The mean hedge error is: -0.17509210109710693\n",
      "The normalized std of the hedge error is: 0.02705230936408043\n"
     ]
    }
   ],
   "source": [
    "results = update_results(stock_paths, expiration, vols, correlation, N, ticksize)"
   ]
  },
  {
   "cell_type": "markdown",
   "metadata": {},
   "source": [
    "$$\n",
    "S_1(0) = 100 \\quad S_2(0) = 80\n",
    "$$"
   ]
  },
  {
   "cell_type": "code",
   "execution_count": 80,
   "metadata": {},
   "outputs": [],
   "source": [
    "s1_0 = 100\n",
    "s2_0 = 80\n",
    "\n",
    "s0 = jnp.array([s1_0, s2_0])\n",
    "\n",
    "gbm = MultiGeometricBrownianMotion(s0, means, vols, correlation, dtype=jnp.float32)\n",
    "stock_paths = gbm.sample_paths(expiration, N, n_simulation)"
   ]
  },
  {
   "cell_type": "code",
   "execution_count": 81,
   "metadata": {},
   "outputs": [
    {
     "name": "stdout",
     "output_type": "stream",
     "text": [
      "The mean hedge error is: -0.20510469377040863\n",
      "The normalized std of the hedge error is: 0.11972278356552124\n"
     ]
    }
   ],
   "source": [
    "results = update_results(stock_paths, expiration, vols, correlation, N, ticksize)"
   ]
  },
  {
   "cell_type": "markdown",
   "metadata": {},
   "source": [
    "$$\n",
    "S_1(0) = 100 \\quad S_2(0) = 90\n",
    "$$"
   ]
  },
  {
   "cell_type": "code",
   "execution_count": 82,
   "metadata": {},
   "outputs": [],
   "source": [
    "s1_0 = 100\n",
    "s2_0 = 90\n",
    "\n",
    "s0 = jnp.array([s1_0, s2_0])\n",
    "\n",
    "gbm = MultiGeometricBrownianMotion(s0, means, vols, correlation, dtype=jnp.float32)\n",
    "stock_paths = gbm.sample_paths(expiration, N, n_simulation)"
   ]
  },
  {
   "cell_type": "code",
   "execution_count": 83,
   "metadata": {},
   "outputs": [
    {
     "name": "stdout",
     "output_type": "stream",
     "text": [
      "The mean hedge error is: -0.17351306974887848\n",
      "The normalized std of the hedge error is: 0.07768113911151886\n"
     ]
    }
   ],
   "source": [
    "results = update_results(stock_paths, expiration, vols, correlation, N, ticksize)"
   ]
  },
  {
   "cell_type": "markdown",
   "metadata": {},
   "source": [
    "### Different volatilites\n",
    "\n",
    "$$\n",
    "S_1(0) = 100 \\quad S_2(0) = 100 \\quad \\sigma_1 = 0.3 \\quad \\sigma_2 = 0.3\n",
    "$$"
   ]
  },
  {
   "cell_type": "code",
   "execution_count": 84,
   "metadata": {},
   "outputs": [],
   "source": [
    "s1_0, s2_0 = 100, 100\n",
    "mu_1, mu_2 = 0.0, 0.0\n",
    "sigma_1, sigma_2 = 0.3, 0.3\n",
    "rho = -0.5\n",
    "expiration = 1.0\n",
    "N = 252\n",
    "dt = expiration / N\n",
    "n_simulation = 1000\n",
    "ticksize = 0.00\n",
    "\n",
    "s0 = jnp.array([s1_0, s2_0])\n",
    "means = jnp.array([0.0, 0.0])\n",
    "vols = jnp.array([sigma_1, sigma_2])\n",
    "correlation = jnp.array([[1, rho], [rho, 1]], dtype=jnp.float32)\n",
    "\n",
    "gbm = MultiGeometricBrownianMotion(s0, means, vols, correlation, dtype=jnp.float32)\n",
    "stock_paths = gbm.sample_paths(expiration, N, n_simulation)"
   ]
  },
  {
   "cell_type": "code",
   "execution_count": 85,
   "metadata": {},
   "outputs": [
    {
     "name": "stdout",
     "output_type": "stream",
     "text": [
      "The mean hedge error is: 0.47807326912879944\n",
      "The normalized std of the hedge error is: 0.05599630996584892\n"
     ]
    }
   ],
   "source": [
    "results = update_results(stock_paths, expiration, vols, correlation, N, ticksize)"
   ]
  },
  {
   "cell_type": "markdown",
   "metadata": {},
   "source": [
    "$$\n",
    "S_1(0) = 100 \\quad S_2(0) = 100 \\quad \\sigma_1 = 0.1 \\quad \\sigma_2 = 0.1\n",
    "$$"
   ]
  },
  {
   "cell_type": "code",
   "execution_count": 86,
   "metadata": {},
   "outputs": [],
   "source": [
    "sigma_1, sigma_2 = 0.1, 0.1\n",
    "\n",
    "vols = jnp.array([sigma_1, sigma_2])\n",
    "\n",
    "gbm = MultiGeometricBrownianMotion(s0, means, vols, correlation, dtype=jnp.float32)\n",
    "stock_paths = gbm.sample_paths(expiration, N, n_simulation)"
   ]
  },
  {
   "cell_type": "code",
   "execution_count": 87,
   "metadata": {},
   "outputs": [
    {
     "name": "stdout",
     "output_type": "stream",
     "text": [
      "The mean hedge error is: 0.15839439630508423\n",
      "The normalized std of the hedge error is: 0.054243817925453186\n"
     ]
    }
   ],
   "source": [
    "results = update_results(stock_paths, expiration, vols, correlation, N, ticksize)"
   ]
  },
  {
   "cell_type": "markdown",
   "metadata": {},
   "source": [
    "$$\n",
    "S_1(0) = 100 \\quad S_2(0) = 100 \\quad \\sigma_1 = 0.1 \\quad \\sigma_2 = 0.3\n",
    "$$"
   ]
  },
  {
   "cell_type": "code",
   "execution_count": 88,
   "metadata": {},
   "outputs": [],
   "source": [
    "sigma_1, sigma_2 = 0.1, 0.3\n",
    "\n",
    "vols = jnp.array([sigma_1, sigma_2])\n",
    "\n",
    "gbm = MultiGeometricBrownianMotion(s0, means, vols, correlation, dtype=jnp.float32)\n",
    "stock_paths = gbm.sample_paths(expiration, N, n_simulation)"
   ]
  },
  {
   "cell_type": "code",
   "execution_count": 89,
   "metadata": {},
   "outputs": [
    {
     "name": "stdout",
     "output_type": "stream",
     "text": [
      "The mean hedge error is: 1.3821407556533813\n",
      "The normalized std of the hedge error is: 0.062321737408638\n"
     ]
    }
   ],
   "source": [
    "results = update_results(stock_paths, expiration, vols, correlation, N, ticksize)"
   ]
  },
  {
   "cell_type": "markdown",
   "metadata": {},
   "source": [
    "$$\n",
    "S_1(0) = 100 \\quad S_2(0) = 100 \\quad \\sigma_1 = 0.3 \\quad \\sigma_2 = 0.1\n",
    "$$"
   ]
  },
  {
   "cell_type": "code",
   "execution_count": 90,
   "metadata": {},
   "outputs": [],
   "source": [
    "sigma_1, sigma_2 = 0.3, 0.1\n",
    "\n",
    "vols = jnp.array([sigma_1, sigma_2])\n",
    "\n",
    "gbm = MultiGeometricBrownianMotion(s0, means, vols, correlation, dtype=jnp.float32)\n",
    "stock_paths = gbm.sample_paths(expiration, N, n_simulation)"
   ]
  },
  {
   "cell_type": "code",
   "execution_count": 91,
   "metadata": {},
   "outputs": [
    {
     "name": "stdout",
     "output_type": "stream",
     "text": [
      "The mean hedge error is: -0.8245880007743835\n",
      "The normalized std of the hedge error is: 0.06309407949447632\n"
     ]
    }
   ],
   "source": [
    "results = update_results(stock_paths, expiration, vols, correlation, N, ticksize)"
   ]
  },
  {
   "cell_type": "markdown",
   "metadata": {},
   "source": [
    "### Different volatilites\n",
    "\n",
    "$$\n",
    "S_1(0) = 100 \\quad S_2(0) = 100 \\quad \\sigma_1 = 0.2 \\quad \\sigma_2 = 0.2 \\quad \\rho = 0.5\n",
    "$$"
   ]
  },
  {
   "cell_type": "code",
   "execution_count": 92,
   "metadata": {},
   "outputs": [],
   "source": [
    "s1_0, s2_0 = 100, 100\n",
    "mu_1, mu_2 = 0.0, 0.0\n",
    "sigma_1, sigma_2 = 0.2, 0.2\n",
    "rho = 0.5\n",
    "expiration = 1.0\n",
    "N = 252\n",
    "dt = expiration / N\n",
    "n_simulation = 1000\n",
    "ticksize = 0.00\n",
    "\n",
    "s0 = jnp.array([s1_0, s2_0])\n",
    "means = jnp.array([0.0, 0.0])\n",
    "vols = jnp.array([sigma_1, sigma_2])\n",
    "correlation = jnp.array([[1, rho], [rho, 1]], dtype=jnp.float32)\n",
    "\n",
    "gbm = MultiGeometricBrownianMotion(s0, means, vols, correlation, dtype=jnp.float32)\n",
    "stock_paths = gbm.sample_paths(expiration, N, n_simulation)"
   ]
  },
  {
   "cell_type": "code",
   "execution_count": 93,
   "metadata": {},
   "outputs": [
    {
     "name": "stdout",
     "output_type": "stream",
     "text": [
      "The mean hedge error is: -0.5131537914276123\n",
      "The normalized std of the hedge error is: 0.06574606150388718\n"
     ]
    }
   ],
   "source": [
    "results = update_results(stock_paths, expiration, vols, correlation, N, ticksize)"
   ]
  },
  {
   "cell_type": "markdown",
   "metadata": {},
   "source": [
    "$$\n",
    "S_1(0) = 100 \\quad S_2(0) = 100 \\quad \\sigma_1 = 0.1 \\quad \\sigma_2 = 0.1 \\quad \\rho = 0.0\n",
    "$$"
   ]
  },
  {
   "cell_type": "code",
   "execution_count": 94,
   "metadata": {},
   "outputs": [],
   "source": [
    "rho = 0.0\n",
    "\n",
    "correlation = jnp.array([[1, rho], [rho, 1]], dtype=jnp.float32)\n",
    "\n",
    "gbm = MultiGeometricBrownianMotion(s0, means, vols, correlation, dtype=jnp.float32)\n",
    "stock_paths = gbm.sample_paths(expiration, N, n_simulation)"
   ]
  },
  {
   "cell_type": "code",
   "execution_count": 95,
   "metadata": {},
   "outputs": [
    {
     "name": "stdout",
     "output_type": "stream",
     "text": [
      "The mean hedge error is: 0.058293040841817856\n",
      "The normalized std of the hedge error is: 0.054197780787944794\n"
     ]
    }
   ],
   "source": [
    "results = update_results(stock_paths, expiration, vols, correlation, N, ticksize)"
   ]
  },
  {
   "cell_type": "markdown",
   "metadata": {},
   "source": [
    "$$\n",
    "S_1(0) = 100 \\quad S_2(0) = 100 \\quad \\sigma_1 = 0.1 \\quad \\sigma_2 = 0.1 \\quad \\rho = -0.2\n",
    "$$"
   ]
  },
  {
   "cell_type": "code",
   "execution_count": 96,
   "metadata": {},
   "outputs": [],
   "source": [
    "rho = -0.2\n",
    "\n",
    "correlation = jnp.array([[1, rho], [rho, 1]], dtype=jnp.float32)\n",
    "\n",
    "gbm = MultiGeometricBrownianMotion(s0, means, vols, correlation, dtype=jnp.float32)\n",
    "stock_paths = gbm.sample_paths(expiration, N, n_simulation)"
   ]
  },
  {
   "cell_type": "code",
   "execution_count": 97,
   "metadata": {},
   "outputs": [
    {
     "name": "stdout",
     "output_type": "stream",
     "text": [
      "The mean hedge error is: 0.058347299695014954\n",
      "The normalized std of the hedge error is: 0.052655063569545746\n"
     ]
    }
   ],
   "source": [
    "results = update_results(stock_paths, expiration, vols, correlation, N, ticksize)"
   ]
  },
  {
   "cell_type": "markdown",
   "metadata": {},
   "source": [
    "$$\n",
    "S_1(0) = 100 \\quad S_2(0) = 100 \\quad \\sigma_1 = 0.1 \\quad \\sigma_2 = 0.1 \\quad \\rho = 0.2\n",
    "$$"
   ]
  },
  {
   "cell_type": "code",
   "execution_count": 98,
   "metadata": {},
   "outputs": [],
   "source": [
    "rho = 0.2\n",
    "\n",
    "correlation = jnp.array([[1, rho], [rho, 1]], dtype=jnp.float32)\n",
    "\n",
    "gbm = MultiGeometricBrownianMotion(s0, means, vols, correlation, dtype=jnp.float32)\n",
    "stock_paths = gbm.sample_paths(expiration, N, n_simulation)"
   ]
  },
  {
   "cell_type": "code",
   "execution_count": 99,
   "metadata": {},
   "outputs": [
    {
     "name": "stdout",
     "output_type": "stream",
     "text": [
      "The mean hedge error is: -0.01221650093793869\n",
      "The normalized std of the hedge error is: 0.05760524421930313\n"
     ]
    }
   ],
   "source": [
    "results = update_results(stock_paths, expiration, vols, correlation, N, ticksize)"
   ]
  },
  {
   "cell_type": "markdown",
   "metadata": {},
   "source": [
    "### Different rebalancing periods\n",
    "\n",
    "$$\n",
    "N = 121\n",
    "$$"
   ]
  },
  {
   "cell_type": "code",
   "execution_count": 100,
   "metadata": {},
   "outputs": [],
   "source": [
    "s1_0, s2_0 = 100, 100\n",
    "mu_1, mu_2 = 0.0, 0.0\n",
    "sigma_1, sigma_2 = 0.2, 0.2\n",
    "rho = -0.5\n",
    "expiration = 1.0\n",
    "N = 121\n",
    "dt = expiration / N\n",
    "n_simulation = 1000\n",
    "ticksize = 0.00\n",
    "\n",
    "s0 = jnp.array([s1_0, s2_0])\n",
    "means = jnp.array([0.0, 0.0])\n",
    "vols = jnp.array([sigma_1, sigma_2])\n",
    "correlation = jnp.array([[1, rho], [rho, 1]], dtype=jnp.float32)\n",
    "\n",
    "gbm = MultiGeometricBrownianMotion(s0, means, vols, correlation, dtype=jnp.float32)\n",
    "stock_paths = gbm.sample_paths(expiration, N, n_simulation)"
   ]
  },
  {
   "cell_type": "code",
   "execution_count": 101,
   "metadata": {},
   "outputs": [
    {
     "name": "stdout",
     "output_type": "stream",
     "text": [
      "The mean hedge error is: 0.37242016196250916\n",
      "The normalized std of the hedge error is: 0.07581684738397598\n"
     ]
    }
   ],
   "source": [
    "results = update_results(stock_paths, expiration, vols, correlation, N, ticksize)"
   ]
  },
  {
   "cell_type": "markdown",
   "metadata": {},
   "source": [
    "$$\n",
    "N = 52\n",
    "$$"
   ]
  },
  {
   "cell_type": "code",
   "execution_count": 102,
   "metadata": {},
   "outputs": [],
   "source": [
    "s1_0, s2_0 = 100, 100\n",
    "mu_1, mu_2 = 0.0, 0.0\n",
    "sigma_1, sigma_2 = 0.2, 0.2\n",
    "rho = -0.5\n",
    "expiration = 1.0\n",
    "N = 52\n",
    "dt = expiration / N\n",
    "n_simulation = 1000\n",
    "ticksize = 0.00\n",
    "\n",
    "s0 = jnp.array([s1_0, s2_0])\n",
    "means = jnp.array([0.0, 0.0])\n",
    "vols = jnp.array([sigma_1, sigma_2])\n",
    "correlation = jnp.array([[1, rho], [rho, 1]], dtype=jnp.float32)\n",
    "\n",
    "gbm = MultiGeometricBrownianMotion(s0, means, vols, correlation, dtype=jnp.float32)\n",
    "stock_paths = gbm.sample_paths(expiration, N, n_simulation)"
   ]
  },
  {
   "cell_type": "code",
   "execution_count": 103,
   "metadata": {},
   "outputs": [
    {
     "name": "stdout",
     "output_type": "stream",
     "text": [
      "The mean hedge error is: 0.4295654594898224\n",
      "The normalized std of the hedge error is: 0.12191732972860336\n"
     ]
    }
   ],
   "source": [
    "results = update_results(stock_paths, expiration, vols, correlation, N, ticksize)"
   ]
  },
  {
   "cell_type": "code",
   "execution_count": 104,
   "metadata": {},
   "outputs": [
    {
     "data": {
      "text/html": [
       "<div>\n",
       "<style scoped>\n",
       "    .dataframe tbody tr th:only-of-type {\n",
       "        vertical-align: middle;\n",
       "    }\n",
       "\n",
       "    .dataframe tbody tr th {\n",
       "        vertical-align: top;\n",
       "    }\n",
       "\n",
       "    .dataframe thead th {\n",
       "        text-align: right;\n",
       "    }\n",
       "</style>\n",
       "<table border=\"1\" class=\"dataframe\">\n",
       "  <thead>\n",
       "    <tr style=\"text-align: right;\">\n",
       "      <th></th>\n",
       "      <th>S1_0</th>\n",
       "      <th>S2_0</th>\n",
       "      <th>Volatility_1</th>\n",
       "      <th>Volatility_2</th>\n",
       "      <th>Maturity</th>\n",
       "      <th>Rebalancing_freq</th>\n",
       "      <th>Correlation</th>\n",
       "      <th>E_PL_T</th>\n",
       "      <th>Std_PL_T</th>\n",
       "    </tr>\n",
       "  </thead>\n",
       "  <tbody>\n",
       "    <tr>\n",
       "      <th>0</th>\n",
       "      <td>100.0</td>\n",
       "      <td>100.0</td>\n",
       "      <td>0.2</td>\n",
       "      <td>0.2</td>\n",
       "      <td>1.0</td>\n",
       "      <td>252</td>\n",
       "      <td>-0.5</td>\n",
       "      <td>-0.20913139</td>\n",
       "      <td>0.053352516</td>\n",
       "    </tr>\n",
       "    <tr>\n",
       "      <th>1</th>\n",
       "      <td>100.0</td>\n",
       "      <td>110.0</td>\n",
       "      <td>0.2</td>\n",
       "      <td>0.2</td>\n",
       "      <td>1.0</td>\n",
       "      <td>252</td>\n",
       "      <td>-0.5</td>\n",
       "      <td>-0.20903727</td>\n",
       "      <td>0.038151383</td>\n",
       "    </tr>\n",
       "    <tr>\n",
       "      <th>2</th>\n",
       "      <td>100.0</td>\n",
       "      <td>120.0</td>\n",
       "      <td>0.2</td>\n",
       "      <td>0.2</td>\n",
       "      <td>1.0</td>\n",
       "      <td>252</td>\n",
       "      <td>-0.5</td>\n",
       "      <td>-0.1750921</td>\n",
       "      <td>0.02705231</td>\n",
       "    </tr>\n",
       "    <tr>\n",
       "      <th>3</th>\n",
       "      <td>100.0</td>\n",
       "      <td>80.0</td>\n",
       "      <td>0.2</td>\n",
       "      <td>0.2</td>\n",
       "      <td>1.0</td>\n",
       "      <td>252</td>\n",
       "      <td>-0.5</td>\n",
       "      <td>-0.2051047</td>\n",
       "      <td>0.11972278</td>\n",
       "    </tr>\n",
       "    <tr>\n",
       "      <th>4</th>\n",
       "      <td>100.0</td>\n",
       "      <td>90.0</td>\n",
       "      <td>0.2</td>\n",
       "      <td>0.2</td>\n",
       "      <td>1.0</td>\n",
       "      <td>252</td>\n",
       "      <td>-0.5</td>\n",
       "      <td>-0.17351307</td>\n",
       "      <td>0.07768114</td>\n",
       "    </tr>\n",
       "    <tr>\n",
       "      <th>5</th>\n",
       "      <td>100.0</td>\n",
       "      <td>100.0</td>\n",
       "      <td>0.3</td>\n",
       "      <td>0.3</td>\n",
       "      <td>1.0</td>\n",
       "      <td>252</td>\n",
       "      <td>-0.5</td>\n",
       "      <td>0.47807327</td>\n",
       "      <td>0.05599631</td>\n",
       "    </tr>\n",
       "    <tr>\n",
       "      <th>6</th>\n",
       "      <td>100.0</td>\n",
       "      <td>100.0</td>\n",
       "      <td>0.1</td>\n",
       "      <td>0.1</td>\n",
       "      <td>1.0</td>\n",
       "      <td>252</td>\n",
       "      <td>-0.5</td>\n",
       "      <td>0.1583944</td>\n",
       "      <td>0.054243818</td>\n",
       "    </tr>\n",
       "    <tr>\n",
       "      <th>7</th>\n",
       "      <td>100.0</td>\n",
       "      <td>100.0</td>\n",
       "      <td>0.1</td>\n",
       "      <td>0.3</td>\n",
       "      <td>1.0</td>\n",
       "      <td>252</td>\n",
       "      <td>-0.5</td>\n",
       "      <td>1.3821408</td>\n",
       "      <td>0.062321737</td>\n",
       "    </tr>\n",
       "    <tr>\n",
       "      <th>8</th>\n",
       "      <td>100.0</td>\n",
       "      <td>100.0</td>\n",
       "      <td>0.3</td>\n",
       "      <td>0.1</td>\n",
       "      <td>1.0</td>\n",
       "      <td>252</td>\n",
       "      <td>-0.5</td>\n",
       "      <td>-0.824588</td>\n",
       "      <td>0.06309408</td>\n",
       "    </tr>\n",
       "    <tr>\n",
       "      <th>9</th>\n",
       "      <td>100.0</td>\n",
       "      <td>100.0</td>\n",
       "      <td>0.2</td>\n",
       "      <td>0.2</td>\n",
       "      <td>1.0</td>\n",
       "      <td>252</td>\n",
       "      <td>0.5</td>\n",
       "      <td>-0.5131538</td>\n",
       "      <td>0.06574606</td>\n",
       "    </tr>\n",
       "    <tr>\n",
       "      <th>10</th>\n",
       "      <td>100.0</td>\n",
       "      <td>100.0</td>\n",
       "      <td>0.2</td>\n",
       "      <td>0.2</td>\n",
       "      <td>1.0</td>\n",
       "      <td>252</td>\n",
       "      <td>0.0</td>\n",
       "      <td>0.05829304</td>\n",
       "      <td>0.05419778</td>\n",
       "    </tr>\n",
       "    <tr>\n",
       "      <th>11</th>\n",
       "      <td>100.0</td>\n",
       "      <td>100.0</td>\n",
       "      <td>0.2</td>\n",
       "      <td>0.2</td>\n",
       "      <td>1.0</td>\n",
       "      <td>252</td>\n",
       "      <td>-0.2</td>\n",
       "      <td>0.0583473</td>\n",
       "      <td>0.052655064</td>\n",
       "    </tr>\n",
       "    <tr>\n",
       "      <th>12</th>\n",
       "      <td>100.0</td>\n",
       "      <td>100.0</td>\n",
       "      <td>0.2</td>\n",
       "      <td>0.2</td>\n",
       "      <td>1.0</td>\n",
       "      <td>252</td>\n",
       "      <td>0.2</td>\n",
       "      <td>-0.012216501</td>\n",
       "      <td>0.057605244</td>\n",
       "    </tr>\n",
       "    <tr>\n",
       "      <th>13</th>\n",
       "      <td>100.0</td>\n",
       "      <td>100.0</td>\n",
       "      <td>0.2</td>\n",
       "      <td>0.2</td>\n",
       "      <td>1.0</td>\n",
       "      <td>121</td>\n",
       "      <td>-0.5</td>\n",
       "      <td>0.37242016</td>\n",
       "      <td>0.07581685</td>\n",
       "    </tr>\n",
       "    <tr>\n",
       "      <th>14</th>\n",
       "      <td>100.0</td>\n",
       "      <td>100.0</td>\n",
       "      <td>0.2</td>\n",
       "      <td>0.2</td>\n",
       "      <td>1.0</td>\n",
       "      <td>52</td>\n",
       "      <td>-0.5</td>\n",
       "      <td>0.42956546</td>\n",
       "      <td>0.12191733</td>\n",
       "    </tr>\n",
       "  </tbody>\n",
       "</table>\n",
       "</div>"
      ],
      "text/plain": [
       "     S1_0   S2_0 Volatility_1 Volatility_2  Maturity  Rebalancing_freq  \\\n",
       "0   100.0  100.0          0.2          0.2       1.0               252   \n",
       "1   100.0  110.0          0.2          0.2       1.0               252   \n",
       "2   100.0  120.0          0.2          0.2       1.0               252   \n",
       "3   100.0   80.0          0.2          0.2       1.0               252   \n",
       "4   100.0   90.0          0.2          0.2       1.0               252   \n",
       "5   100.0  100.0          0.3          0.3       1.0               252   \n",
       "6   100.0  100.0          0.1          0.1       1.0               252   \n",
       "7   100.0  100.0          0.1          0.3       1.0               252   \n",
       "8   100.0  100.0          0.3          0.1       1.0               252   \n",
       "9   100.0  100.0          0.2          0.2       1.0               252   \n",
       "10  100.0  100.0          0.2          0.2       1.0               252   \n",
       "11  100.0  100.0          0.2          0.2       1.0               252   \n",
       "12  100.0  100.0          0.2          0.2       1.0               252   \n",
       "13  100.0  100.0          0.2          0.2       1.0               121   \n",
       "14  100.0  100.0          0.2          0.2       1.0                52   \n",
       "\n",
       "   Correlation        E_PL_T     Std_PL_T  \n",
       "0         -0.5   -0.20913139  0.053352516  \n",
       "1         -0.5   -0.20903727  0.038151383  \n",
       "2         -0.5    -0.1750921   0.02705231  \n",
       "3         -0.5    -0.2051047   0.11972278  \n",
       "4         -0.5   -0.17351307   0.07768114  \n",
       "5         -0.5    0.47807327   0.05599631  \n",
       "6         -0.5     0.1583944  0.054243818  \n",
       "7         -0.5     1.3821408  0.062321737  \n",
       "8         -0.5     -0.824588   0.06309408  \n",
       "9          0.5    -0.5131538   0.06574606  \n",
       "10         0.0    0.05829304   0.05419778  \n",
       "11        -0.2     0.0583473  0.052655064  \n",
       "12         0.2  -0.012216501  0.057605244  \n",
       "13        -0.5    0.37242016   0.07581685  \n",
       "14        -0.5    0.42956546   0.12191733  "
      ]
     },
     "execution_count": 104,
     "metadata": {},
     "output_type": "execute_result"
    }
   ],
   "source": [
    "res_df = pd.DataFrame.from_dict(results)\n",
    "res_df"
   ]
  },
  {
   "cell_type": "code",
   "execution_count": 105,
   "metadata": {},
   "outputs": [],
   "source": [
    "res_df.to_csv('./results/margrabe_delta_high.csv')"
   ]
  }
 ],
 "metadata": {
  "kernelspec": {
   "display_name": "venv",
   "language": "python",
   "name": "python3"
  },
  "language_info": {
   "codemirror_mode": {
    "name": "ipython",
    "version": 3
   },
   "file_extension": ".py",
   "mimetype": "text/x-python",
   "name": "python",
   "nbconvert_exporter": "python",
   "pygments_lexer": "ipython3",
   "version": "3.10.6"
  }
 },
 "nbformat": 4,
 "nbformat_minor": 2
}
