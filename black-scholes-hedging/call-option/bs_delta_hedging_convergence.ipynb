{
 "cells": [
  {
   "cell_type": "markdown",
   "source": [
    "# Example of discrete hedging experiment for a European Call option under the BS model\n",
    "Consider a market model with two assets, a Bank account and a Stock with $P$-dynamics\n",
    "\n",
    "$$\n",
    "dB(t) = rB(t) dt, \\hspace{10mm} B(0) = 1 \\\\\n",
    "dS(t) = \\mu S(t) dt + \\sigma S(t) dW(t), \\hspace{10mm} S(0) = s > 0\n",
    "$$\n",
    "\n",
    "Consider the European call options that at time $T$ pays $X = (S(T) - K)^+$ where $K > 0$ is the strike price.\n",
    "\n",
    "Chope the time interval between now (time 0) and expiry of the call-option (time $T$) into $N$ pieces; denote the discretization points $t_i$.  "
   ],
   "metadata": {
    "collapsed": false
   }
  },
  {
   "cell_type": "code",
   "execution_count": 1,
   "metadata": {
    "ExecuteTime": {
     "end_time": "2024-02-08T18:00:25.201310300Z",
     "start_time": "2024-02-08T18:00:25.041769500Z"
    }
   },
   "outputs": [
    {
     "name": "stdout",
     "output_type": "stream",
     "text": [
      "Adding module\n"
     ]
    }
   ],
   "source": [
    "import os\n",
    "import sys\n",
    "module_path = os.path.abspath(os.path.join('..'))\n",
    "if module_path not in sys.path:\n",
    "    print('Adding module')\n",
    "    sys.path.append(module_path)"
   ]
  },
  {
   "cell_type": "code",
   "execution_count": 2,
   "metadata": {
    "ExecuteTime": {
     "end_time": "2024-02-08T18:00:27.843426400Z",
     "start_time": "2024-02-08T18:00:25.066473300Z"
    }
   },
   "outputs": [],
   "source": [
    "import jax.numpy as jnp\n",
    "import matplotlib.pyplot as plt\n",
    "\n",
    "from jaxfin.models.gbm import UnivGeometricBrownianMotion\n",
    "from jaxfin.price_engine.black_scholes import european_price, delta_european"
   ]
  },
  {
   "cell_type": "code",
   "execution_count": 3,
   "outputs": [],
   "source": [
    "seed = 42"
   ],
   "metadata": {
    "collapsed": false,
    "ExecuteTime": {
     "end_time": "2024-02-08T18:00:27.862884600Z",
     "start_time": "2024-02-08T18:00:27.846954800Z"
    }
   }
  },
  {
   "cell_type": "markdown",
   "source": [
    "$$\n",
    "S(0) = 100 \\\\\n",
    "\\sigma = 0.2 \\\\\n",
    "\\mu = 0.00 \\\\\n",
    "$$\n",
    "\n",
    "Let set $N = 252$, which means that we are rebalancing our portfolio daily."
   ],
   "metadata": {
    "collapsed": false
   }
  },
  {
   "cell_type": "code",
   "execution_count": 4,
   "metadata": {
    "ExecuteTime": {
     "end_time": "2024-02-08T18:00:27.927917100Z",
     "start_time": "2024-02-08T18:00:27.872744600Z"
    }
   },
   "outputs": [],
   "source": [
    "s0 = 100\n",
    "sigma = 0.2\n",
    "mean = 0.00\n",
    "\n",
    "params = {\n",
    "    's0' : s0,\n",
    "    'dtype' : jnp.float32,\n",
    "    'mean' : mean,\n",
    "    'sigma': sigma\n",
    "}\n",
    "gmb = UnivGeometricBrownianMotion(**params)"
   ]
  },
  {
   "cell_type": "code",
   "execution_count": 5,
   "metadata": {
    "ExecuteTime": {
     "end_time": "2024-02-08T18:00:29.012607500Z",
     "start_time": "2024-02-08T18:00:27.916650900Z"
    }
   },
   "outputs": [],
   "source": [
    "maturity = 1.0\n",
    "N = 252\n",
    "dt = maturity / N\n",
    "n_sim = 1000\n",
    "\n",
    "stock_paths = gmb.simulate_paths(seed, maturity, N, n_sim)"
   ]
  },
  {
   "cell_type": "markdown",
   "source": [
    "$$\n",
    "K = 100 \\\\\n",
    "r = 0.0 \\\\\n",
    "$$"
   ],
   "metadata": {
    "collapsed": false
   }
  },
  {
   "cell_type": "code",
   "execution_count": 6,
   "outputs": [],
   "source": [
    "K = 110\n",
    "discount_rate = 0.0"
   ],
   "metadata": {
    "collapsed": false,
    "ExecuteTime": {
     "end_time": "2024-02-08T18:00:29.028101400Z",
     "start_time": "2024-02-08T18:00:29.012607500Z"
    }
   }
  },
  {
   "cell_type": "code",
   "execution_count": 7,
   "outputs": [],
   "source": [
    "n_rebalancing = jnp.asarray(jnp.linspace(10, 300, 10), jnp.int32)\n",
    "hedging_errors = []\n",
    "mean_hedging_errors = []\n",
    "normalized_std_hedge_errors = []"
   ],
   "metadata": {
    "collapsed": false,
    "ExecuteTime": {
     "end_time": "2024-02-08T18:00:29.136863300Z",
     "start_time": "2024-02-08T18:00:29.028101400Z"
    }
   }
  },
  {
   "cell_type": "code",
   "execution_count": 9,
   "outputs": [],
   "source": [
    "initial_outlay = european_price(stock_paths[0, 0], K, maturity, sigma, discount_rate)\n",
    "\n",
    "for N in n_rebalancing:\n",
    "\n",
    "    stock_paths = gmb.simulate_paths(seed, maturity, N, n_sim)\n",
    "    dt = maturity / N\n",
    "    \n",
    "    deltas = [delta_european(stock_paths[i], K, maturity - i * dt, sigma, discount_rate, dtype=jnp.float32) for i in range(0, N)]\n",
    "    cs = [european_price(stock_paths[i], K, maturity - i * dt, sigma, discount_rate, dtype=jnp.float32) for i in range(0, N)]\n",
    "    b = [cs[0] - deltas[0] * stock_paths[0]]\n",
    "    vs = [cs[0]]\n",
    "    \n",
    "    for i in range(1, N):\n",
    "        vs.append(deltas[i - 1] * stock_paths[i] + b[i - 1])\n",
    "        b.append(vs[i] - deltas[i] * stock_paths[i])\n",
    "        \n",
    "    hedge_error = jnp.asarray(vs) - jnp.maximum(stock_paths - K, 0)\n",
    "    \n",
    "    mean_hedging_errors.append(jnp.mean(hedge_error[-1]))\n",
    "    normalized_std_hedge_errors.append(jnp.divide(jnp.std(hedge_error[-1]), initial_outlay))    "
   ],
   "metadata": {
    "collapsed": false,
    "ExecuteTime": {
     "end_time": "2024-02-08T18:00:41.413744Z",
     "start_time": "2024-02-08T18:00:29.226088Z"
    }
   }
  },
  {
   "cell_type": "code",
   "execution_count": 13,
   "outputs": [
    {
     "data": {
      "text/plain": "Array([0.50924355, 0.24411018, 0.18256776, 0.1551551 , 0.1360827 ,\n       0.1288601 , 0.11645123, 0.10806318, 0.10620437, 0.08788706],      dtype=float32)"
     },
     "execution_count": 13,
     "metadata": {},
     "output_type": "execute_result"
    }
   ],
   "source": [
    "jnp.asarray(normalized_std_hedge_errors)"
   ],
   "metadata": {
    "collapsed": false,
    "ExecuteTime": {
     "end_time": "2024-02-08T18:01:01.609922200Z",
     "start_time": "2024-02-08T18:01:01.556607200Z"
    }
   }
  },
  {
   "cell_type": "code",
   "execution_count": 41,
   "outputs": [
    {
     "name": "stdout",
     "output_type": "stream",
     "text": [
      "$y = -0.4903881549835205x +0.43752771615982056$\n"
     ]
    }
   ],
   "source": [
    "m, b = jnp.polyfit(x=jnp.log(jnp.astype(n_rebalancing, jnp.float32)), y=jnp.log(jnp.asarray(normalized_std_hedge_errors)), deg=1)\n",
    "print(f'$y = {m}x {b:+}$')"
   ],
   "metadata": {
    "collapsed": false,
    "ExecuteTime": {
     "end_time": "2024-02-08T18:15:35.197142300Z",
     "start_time": "2024-02-08T18:15:35.152679500Z"
    }
   }
  },
  {
   "cell_type": "code",
   "execution_count": 43,
   "outputs": [
    {
     "data": {
      "text/plain": "<Figure size 640x480 with 1 Axes>",
      "image/png": "[encoded data removed]"
     },
     "metadata": {},
     "output_type": "display_data"
    }
   ],
   "source": [
    "plt.loglog(n_rebalancing, jnp.asarray(normalized_std_hedge_errors), '-p')\n",
    "\n",
    "plt.ylabel(\"std. dev. of disc. hedge error\")\n",
    "plt.xlabel(\"# hedge points\")\n",
    "plt.show()"
   ],
   "metadata": {
    "collapsed": false,
    "ExecuteTime": {
     "end_time": "2024-02-08T18:16:13.041809100Z",
     "start_time": "2024-02-08T18:16:12.670510200Z"
    }
   }
  }
 ],
 "metadata": {
  "kernelspec": {
   "display_name": "venv",
   "language": "python",
   "name": "python3"
  },
  "language_info": {
   "codemirror_mode": {
    "name": "ipython",
    "version": 3
   },
   "file_extension": ".py",
   "mimetype": "text/x-python",
   "name": "python",
   "nbconvert_exporter": "python",
   "pygments_lexer": "ipython3",
   "version": "3.10.6"
  }
 },
 "nbformat": 4,
 "nbformat_minor": 2
}
